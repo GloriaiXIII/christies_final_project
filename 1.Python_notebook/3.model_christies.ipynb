{
 "cells": [
  {
   "cell_type": "code",
   "execution_count": 1,
   "id": "24248556",
   "metadata": {},
   "outputs": [],
   "source": [
    "import pandas as pd\n",
    "import numpy as np\n",
    "import re\n",
    "from sklearn.metrics import accuracy_score"
   ]
  },
  {
   "cell_type": "code",
   "execution_count": 2,
   "id": "7a2edd3f",
   "metadata": {},
   "outputs": [
    {
     "data": {
      "text/html": [
       "<div>\n",
       "<style scoped>\n",
       "    .dataframe tbody tr th:only-of-type {\n",
       "        vertical-align: middle;\n",
       "    }\n",
       "\n",
       "    .dataframe tbody tr th {\n",
       "        vertical-align: top;\n",
       "    }\n",
       "\n",
       "    .dataframe thead th {\n",
       "        text-align: right;\n",
       "    }\n",
       "</style>\n",
       "<table border=\"1\" class=\"dataframe\">\n",
       "  <thead>\n",
       "    <tr style=\"text-align: right;\">\n",
       "      <th></th>\n",
       "      <th>index_id</th>\n",
       "      <th>category</th>\n",
       "      <th>auction_id</th>\n",
       "      <th>date</th>\n",
       "      <th>location</th>\n",
       "      <th>original_currency</th>\n",
       "      <th>total_sale</th>\n",
       "      <th>nooflots</th>\n",
       "      <th>lot</th>\n",
       "      <th>title</th>\n",
       "      <th>descr</th>\n",
       "      <th>measures</th>\n",
       "      <th>min_estimated</th>\n",
       "      <th>max_estimated</th>\n",
       "      <th>realized</th>\n",
       "    </tr>\n",
       "  </thead>\n",
       "  <tbody>\n",
       "    <tr>\n",
       "      <th>0</th>\n",
       "      <td>0</td>\n",
       "      <td>Antiquities</td>\n",
       "      <td>19876</td>\n",
       "      <td>8 December 2021</td>\n",
       "      <td>London</td>\n",
       "      <td>GBP</td>\n",
       "      <td>6407750</td>\n",
       "      <td>152</td>\n",
       "      <td>1</td>\n",
       "      <td>AN ATTIC BLACK-FIGURED TREFOIL-LIPPED OINOCHOE</td>\n",
       "      <td>ATTRIBUTED TO THE GELA PAINTER, CIRCA 510-490 ...</td>\n",
       "      <td>6 3⁄4 in. (17.2 cm.) high</td>\n",
       "      <td>6000</td>\n",
       "      <td>8000</td>\n",
       "      <td>8125</td>\n",
       "    </tr>\n",
       "    <tr>\n",
       "      <th>1</th>\n",
       "      <td>1</td>\n",
       "      <td>Antiquities</td>\n",
       "      <td>19876</td>\n",
       "      <td>8 December 2021</td>\n",
       "      <td>London</td>\n",
       "      <td>GBP</td>\n",
       "      <td>6407750</td>\n",
       "      <td>152</td>\n",
       "      <td>2</td>\n",
       "      <td>A GREEK MEGARIAN WARE POTTERY BOWL</td>\n",
       "      <td>HELLENISTIC PERIOD, CIRCA 2ND CENTURY B.C.</td>\n",
       "      <td>5 5⁄8 in. (14.2 cm.) diameter</td>\n",
       "      <td>400</td>\n",
       "      <td>600</td>\n",
       "      <td>1500</td>\n",
       "    </tr>\n",
       "    <tr>\n",
       "      <th>2</th>\n",
       "      <td>2</td>\n",
       "      <td>Antiquities</td>\n",
       "      <td>19876</td>\n",
       "      <td>8 December 2021</td>\n",
       "      <td>London</td>\n",
       "      <td>GBP</td>\n",
       "      <td>6407750</td>\n",
       "      <td>152</td>\n",
       "      <td>3</td>\n",
       "      <td>AN ATTIC WHITE-GROUND LEKYTHOS</td>\n",
       "      <td>CIRCA MID 5TH CENTURY B.C.</td>\n",
       "      <td>11 1⁄2 in. (29.2 cm.) high</td>\n",
       "      <td>8000</td>\n",
       "      <td>12000</td>\n",
       "      <td>18750</td>\n",
       "    </tr>\n",
       "    <tr>\n",
       "      <th>3</th>\n",
       "      <td>3</td>\n",
       "      <td>Antiquities</td>\n",
       "      <td>19876</td>\n",
       "      <td>8 December 2021</td>\n",
       "      <td>London</td>\n",
       "      <td>GBP</td>\n",
       "      <td>6407750</td>\n",
       "      <td>152</td>\n",
       "      <td>5</td>\n",
       "      <td>SEVEN GREEK TERRACOTTAS</td>\n",
       "      <td>HELLENISTIC PERIOD, CIRCA 3RD-2ND CENTURY B.C.</td>\n",
       "      <td>4 3⁄8 in. (11 cm.) long max.</td>\n",
       "      <td>2500</td>\n",
       "      <td>3500</td>\n",
       "      <td>4375</td>\n",
       "    </tr>\n",
       "    <tr>\n",
       "      <th>4</th>\n",
       "      <td>4</td>\n",
       "      <td>Antiquities</td>\n",
       "      <td>19876</td>\n",
       "      <td>8 December 2021</td>\n",
       "      <td>London</td>\n",
       "      <td>GBP</td>\n",
       "      <td>6407750</td>\n",
       "      <td>152</td>\n",
       "      <td>6</td>\n",
       "      <td>AN ETRUSCAN BRONZE HANDLE FRAGMENT</td>\n",
       "      <td>CIRCA 5TH-4TH CENTURY B.C.</td>\n",
       "      <td>8 3⁄8 in. (21.3 cm.) high</td>\n",
       "      <td>1500</td>\n",
       "      <td>2500</td>\n",
       "      <td>2500</td>\n",
       "    </tr>\n",
       "  </tbody>\n",
       "</table>\n",
       "</div>"
      ],
      "text/plain": [
       "   index_id     category  auction_id             date location  \\\n",
       "0         0  Antiquities       19876  8 December 2021   London   \n",
       "1         1  Antiquities       19876  8 December 2021   London   \n",
       "2         2  Antiquities       19876  8 December 2021   London   \n",
       "3         3  Antiquities       19876  8 December 2021   London   \n",
       "4         4  Antiquities       19876  8 December 2021   London   \n",
       "\n",
       "  original_currency  total_sale  nooflots lot  \\\n",
       "0               GBP     6407750       152   1   \n",
       "1               GBP     6407750       152   2   \n",
       "2               GBP     6407750       152   3   \n",
       "3               GBP     6407750       152   5   \n",
       "4               GBP     6407750       152   6   \n",
       "\n",
       "                                            title  \\\n",
       "0  AN ATTIC BLACK-FIGURED TREFOIL-LIPPED OINOCHOE   \n",
       "1              A GREEK MEGARIAN WARE POTTERY BOWL   \n",
       "2                  AN ATTIC WHITE-GROUND LEKYTHOS   \n",
       "3                         SEVEN GREEK TERRACOTTAS   \n",
       "4              AN ETRUSCAN BRONZE HANDLE FRAGMENT   \n",
       "\n",
       "                                               descr  \\\n",
       "0  ATTRIBUTED TO THE GELA PAINTER, CIRCA 510-490 ...   \n",
       "1         HELLENISTIC PERIOD, CIRCA 2ND CENTURY B.C.   \n",
       "2                         CIRCA MID 5TH CENTURY B.C.   \n",
       "3     HELLENISTIC PERIOD, CIRCA 3RD-2ND CENTURY B.C.   \n",
       "4                         CIRCA 5TH-4TH CENTURY B.C.   \n",
       "\n",
       "                        measures  min_estimated  max_estimated  realized  \n",
       "0      6 3⁄4 in. (17.2 cm.) high           6000           8000      8125  \n",
       "1  5 5⁄8 in. (14.2 cm.) diameter            400            600      1500  \n",
       "2     11 1⁄2 in. (29.2 cm.) high           8000          12000     18750  \n",
       "3   4 3⁄8 in. (11 cm.) long max.           2500           3500      4375  \n",
       "4      8 3⁄8 in. (21.3 cm.) high           1500           2500      2500  "
      ]
     },
     "execution_count": 2,
     "metadata": {},
     "output_type": "execute_result"
    }
   ],
   "source": [
    "df = pd.read_csv ('clean_dataframe.csv')\n",
    "df.head()"
   ]
  },
  {
   "cell_type": "code",
   "execution_count": 3,
   "id": "6af35d56",
   "metadata": {},
   "outputs": [],
   "source": [
    "import numpy as np\n",
    "import pandas as pd\n",
    "import seaborn as sns\n",
    "import matplotlib.pyplot as plt \n",
    "import math # floor\n",
    "import scipy.stats as st\n",
    "import statistics as stats\n",
    "\n",
    "# sklearn\n",
    "from sklearn.linear_model import LinearRegression\n",
    "from sklearn.metrics import mean_squared_error, r2_score\n",
    "from sklearn.linear_model import Lasso, Ridge, ElasticNet, SGDRegressor\n",
    "from sklearn.tree import DecisionTreeRegressor\n",
    "from sklearn.neighbors import KNeighborsRegressor\n",
    "from sklearn.svm import SVR\n",
    "from sklearn.neural_network import MLPRegressor\n",
    "from sklearn.ensemble import RandomForestRegressor, GradientBoostingRegressor\n",
    "from sklearn.model_selection import train_test_split\n",
    "from sklearn.metrics import mean_absolute_error as mae\n",
    "\n",
    "# don't show annying warnings \n",
    "import warnings\n",
    "warnings.filterwarnings(\"ignore\")\n"
   ]
  },
  {
   "cell_type": "code",
   "execution_count": 4,
   "id": "7f3ad9de",
   "metadata": {},
   "outputs": [
    {
     "name": "stdout",
     "output_type": "stream",
     "text": [
      "<class 'pandas.core.frame.DataFrame'>\n",
      "RangeIndex: 10357 entries, 0 to 10356\n",
      "Data columns (total 15 columns):\n",
      " #   Column             Non-Null Count  Dtype \n",
      "---  ------             --------------  ----- \n",
      " 0   index_id           10357 non-null  int64 \n",
      " 1   category           10357 non-null  object\n",
      " 2   auction_id         10357 non-null  int64 \n",
      " 3   date               10357 non-null  object\n",
      " 4   location           10357 non-null  object\n",
      " 5   original_currency  10357 non-null  object\n",
      " 6   total_sale         10357 non-null  int64 \n",
      " 7   nooflots           10357 non-null  int64 \n",
      " 8   lot                10357 non-null  object\n",
      " 9   title              10357 non-null  object\n",
      " 10  descr              10256 non-null  object\n",
      " 11  measures           10357 non-null  object\n",
      " 12  min_estimated      10357 non-null  int64 \n",
      " 13  max_estimated      10357 non-null  int64 \n",
      " 14  realized           10357 non-null  int64 \n",
      "dtypes: int64(7), object(8)\n",
      "memory usage: 1.2+ MB\n"
     ]
    }
   ],
   "source": [
    "# show the dataframe info\n",
    "df.info()"
   ]
  },
  {
   "cell_type": "code",
   "execution_count": 5,
   "id": "fcc02b99",
   "metadata": {},
   "outputs": [
    {
     "data": {
      "text/plain": [
       "(10357, 15)"
      ]
     },
     "execution_count": 5,
     "metadata": {},
     "output_type": "execute_result"
    }
   ],
   "source": [
    "# Show the dataframe shape\n",
    "df.shape"
   ]
  },
  {
   "cell_type": "code",
   "execution_count": 6,
   "id": "4e0ea836",
   "metadata": {},
   "outputs": [
    {
     "data": {
      "text/plain": [
       "['index_id',\n",
       " 'category',\n",
       " 'auction_id',\n",
       " 'date',\n",
       " 'location',\n",
       " 'original_currency',\n",
       " 'total_sale',\n",
       " 'nooflots',\n",
       " 'lot',\n",
       " 'title',\n",
       " 'descr',\n",
       " 'measures',\n",
       " 'min_estimated',\n",
       " 'max_estimated',\n",
       " 'realized']"
      ]
     },
     "execution_count": 6,
     "metadata": {},
     "output_type": "execute_result"
    }
   ],
   "source": [
    "df.columns.to_list()"
   ]
  },
  {
   "cell_type": "code",
   "execution_count": 7,
   "id": "6b6324b3",
   "metadata": {},
   "outputs": [
    {
     "name": "stdout",
     "output_type": "stream",
     "text": [
      "<class 'pandas.core.frame.DataFrame'>\n",
      "RangeIndex: 10357 entries, 0 to 10356\n",
      "Data columns (total 15 columns):\n",
      " #   Column             Non-Null Count  Dtype \n",
      "---  ------             --------------  ----- \n",
      " 0   index_id           10357 non-null  int64 \n",
      " 1   category           10357 non-null  object\n",
      " 2   auction_id         10357 non-null  int64 \n",
      " 3   date               10357 non-null  object\n",
      " 4   location           10357 non-null  object\n",
      " 5   original_currency  10357 non-null  object\n",
      " 6   total_sale         10357 non-null  int64 \n",
      " 7   nooflots           10357 non-null  int64 \n",
      " 8   lot                10357 non-null  object\n",
      " 9   title              10357 non-null  object\n",
      " 10  descr              10256 non-null  object\n",
      " 11  measures           10357 non-null  object\n",
      " 12  min_estimated      10357 non-null  int64 \n",
      " 13  max_estimated      10357 non-null  int64 \n",
      " 14  realized           10357 non-null  int64 \n",
      "dtypes: int64(7), object(8)\n",
      "memory usage: 1.2+ MB\n"
     ]
    }
   ],
   "source": [
    "df.info()"
   ]
  },
  {
   "cell_type": "code",
   "execution_count": 8,
   "id": "5cdc081c",
   "metadata": {},
   "outputs": [
    {
     "data": {
      "text/plain": [
       "index_id             False\n",
       "category             False\n",
       "auction_id           False\n",
       "date                 False\n",
       "location             False\n",
       "original_currency    False\n",
       "total_sale           False\n",
       "nooflots             False\n",
       "lot                  False\n",
       "title                False\n",
       "descr                 True\n",
       "measures             False\n",
       "min_estimated        False\n",
       "max_estimated        False\n",
       "realized             False\n",
       "dtype: bool"
      ]
     },
     "execution_count": 8,
     "metadata": {},
     "output_type": "execute_result"
    }
   ],
   "source": [
    "# quick NaNs check if a column contains NaN's  \n",
    "df.isna().any()"
   ]
  },
  {
   "cell_type": "code",
   "execution_count": 9,
   "id": "67aa7cd2",
   "metadata": {},
   "outputs": [
    {
     "data": {
      "text/plain": [
       "index_id               0\n",
       "category               0\n",
       "auction_id             0\n",
       "date                   0\n",
       "location               0\n",
       "original_currency      0\n",
       "total_sale             0\n",
       "nooflots               0\n",
       "lot                    0\n",
       "title                  0\n",
       "descr                101\n",
       "measures               0\n",
       "min_estimated          0\n",
       "max_estimated          0\n",
       "realized               0\n",
       "dtype: int64"
      ]
     },
     "execution_count": 9,
     "metadata": {},
     "output_type": "execute_result"
    }
   ],
   "source": [
    "# if a column has NaNs, check how many NaN's x column\n",
    "df.isnull().sum()"
   ]
  },
  {
   "cell_type": "code",
   "execution_count": 10,
   "id": "3bb62265",
   "metadata": {},
   "outputs": [
    {
     "name": "stdout",
     "output_type": "stream",
     "text": [
      "descr 0.009751858646326156\n"
     ]
    }
   ],
   "source": [
    "# check's missing values / percentage of missing values\n",
    "for var in df.columns:\n",
    "    if df[var].isnull().sum()>0:\n",
    "        print(var, df[var].isnull().mean())"
   ]
  },
  {
   "cell_type": "code",
   "execution_count": 11,
   "id": "dd6ac18f",
   "metadata": {},
   "outputs": [
    {
     "data": {
      "text/html": [
       "<div>\n",
       "<style scoped>\n",
       "    .dataframe tbody tr th:only-of-type {\n",
       "        vertical-align: middle;\n",
       "    }\n",
       "\n",
       "    .dataframe tbody tr th {\n",
       "        vertical-align: top;\n",
       "    }\n",
       "\n",
       "    .dataframe thead th {\n",
       "        text-align: right;\n",
       "    }\n",
       "</style>\n",
       "<table border=\"1\" class=\"dataframe\">\n",
       "  <thead>\n",
       "    <tr style=\"text-align: right;\">\n",
       "      <th></th>\n",
       "      <th>proportionnulls</th>\n",
       "    </tr>\n",
       "  </thead>\n",
       "  <tbody>\n",
       "    <tr>\n",
       "      <th>index_id</th>\n",
       "      <td>0.00</td>\n",
       "    </tr>\n",
       "    <tr>\n",
       "      <th>category</th>\n",
       "      <td>0.00</td>\n",
       "    </tr>\n",
       "    <tr>\n",
       "      <th>auction_id</th>\n",
       "      <td>0.00</td>\n",
       "    </tr>\n",
       "    <tr>\n",
       "      <th>date</th>\n",
       "      <td>0.00</td>\n",
       "    </tr>\n",
       "    <tr>\n",
       "      <th>location</th>\n",
       "      <td>0.00</td>\n",
       "    </tr>\n",
       "    <tr>\n",
       "      <th>original_currency</th>\n",
       "      <td>0.00</td>\n",
       "    </tr>\n",
       "    <tr>\n",
       "      <th>total_sale</th>\n",
       "      <td>0.00</td>\n",
       "    </tr>\n",
       "    <tr>\n",
       "      <th>nooflots</th>\n",
       "      <td>0.00</td>\n",
       "    </tr>\n",
       "    <tr>\n",
       "      <th>lot</th>\n",
       "      <td>0.00</td>\n",
       "    </tr>\n",
       "    <tr>\n",
       "      <th>title</th>\n",
       "      <td>0.00</td>\n",
       "    </tr>\n",
       "    <tr>\n",
       "      <th>descr</th>\n",
       "      <td>0.98</td>\n",
       "    </tr>\n",
       "    <tr>\n",
       "      <th>measures</th>\n",
       "      <td>0.00</td>\n",
       "    </tr>\n",
       "    <tr>\n",
       "      <th>min_estimated</th>\n",
       "      <td>0.00</td>\n",
       "    </tr>\n",
       "    <tr>\n",
       "      <th>max_estimated</th>\n",
       "      <td>0.00</td>\n",
       "    </tr>\n",
       "    <tr>\n",
       "      <th>realized</th>\n",
       "      <td>0.00</td>\n",
       "    </tr>\n",
       "  </tbody>\n",
       "</table>\n",
       "</div>"
      ],
      "text/plain": [
       "                   proportionnulls\n",
       "index_id                      0.00\n",
       "category                      0.00\n",
       "auction_id                    0.00\n",
       "date                          0.00\n",
       "location                      0.00\n",
       "original_currency             0.00\n",
       "total_sale                    0.00\n",
       "nooflots                      0.00\n",
       "lot                           0.00\n",
       "title                         0.00\n",
       "descr                         0.98\n",
       "measures                      0.00\n",
       "min_estimated                 0.00\n",
       "max_estimated                 0.00\n",
       "realized                      0.00"
      ]
     },
     "execution_count": 11,
     "metadata": {},
     "output_type": "execute_result"
    }
   ],
   "source": [
    "# proportion nulls snapshot table \n",
    "nullsdf=pd.DataFrame(round(df.isna().sum()/len(df),4)*100)\n",
    "nullsdf=nullsdf.rename(columns={'index':'header',0:'proportionnulls'})\n",
    "nullsdf"
   ]
  },
  {
   "cell_type": "code",
   "execution_count": 12,
   "id": "1305bb0d",
   "metadata": {},
   "outputs": [
    {
     "data": {
      "text/plain": [
       "New York                                 4655\n",
       "London                                   2311\n",
       "London, South Kensington                 1839\n",
       "Amsterdam                                 887\n",
       "Paris                                     407\n",
       "Christie's Special Exhibition Gallery     258\n",
       "Name: location, dtype: int64"
      ]
     },
     "execution_count": 12,
     "metadata": {},
     "output_type": "execute_result"
    }
   ],
   "source": [
    "df['location'].value_counts()"
   ]
  },
  {
   "cell_type": "code",
   "execution_count": 13,
   "id": "7d57a74f",
   "metadata": {},
   "outputs": [
    {
     "data": {
      "text/plain": [
       "Antiquities                                                                                                           5905\n",
       "Twenty rooms: The private collection of the late Mrs Elias-Vaes                                                        887\n",
       "Ancient Jewelry                                                                                                        617\n",
       "A Palladian Villa By Michael S. Smith                                                                                  345\n",
       "Collection Jean-Philippe Mariaud de Serres                                                                             314\n",
       "The Collection of Drue Heinz Townhouses in London and New York with interiors by John Fowler and Renzo Mongiardino     274\n",
       "Michael Taylor and the Alchemy of Design: The Diana Dollar Knowles Collection                                          204\n",
       "The William F. Reilly Collection                                                                                       173\n",
       "Antiquities Including the Plesch Collection of Ancient Glass                                                           171\n",
       "Arbiters of Style: The Collection of Anthony Hail & Charles Posey                                                      169\n",
       "The Collection of Peggy and David Rockefeller: Travel and Americana                                                    157\n",
       "Antiquities Including Property from The Collection of Max Palevsky                                                     149\n",
       "A Marriage of Collections: The Property of Dr. Julius and Dena K. Tarshis                                              131\n",
       "Peter Petrou: Tales of the Unexpected                                                                                  104\n",
       "The Groppi Collection                                                                                                  104\n",
       "Harewood: Collecting in The Royal Tradition                                                                             89\n",
       "The Exceptional Sale                                                                                                    66\n",
       "Collection Edmond Cormier-Thierry-Delanoue (1879-1960)                                                                  62\n",
       "The Royal House of Savoy                                                                                                60\n",
       "Ancient Glass from the Shlomo Moussaieff Collection                                                                     59\n",
       "Ancient Jewelry: Wearable Art                                                                                           44\n",
       "Ancient Art from the James and Marilynn Alsdorf Collection                                                              43\n",
       "Masterpieces in Miniature: Ancient Engraved Gems formerly in the G. Sangiorgi Collection                                40\n",
       "The Resandro Collection                                                                                                 40\n",
       "Collection Denise Lévy                                                                                                  31\n",
       "The Exceptional Sale 2014                                                                                               29\n",
       "Masterpieces in Miniature: Ancient Engraved Gems formerly in the G. Sangiorgi Collection Part II                        27\n",
       "Faces of the Past: Ancient Sculpture from the Collection of Dr. Anton Pestalozzi                                        24\n",
       "Faces of the Past: Ancient Sculpture from the Collection of Dr. Anton Pestalozzi - Part 2                               19\n",
       "Antiquity: A Personal View                                                                                              13\n",
       "Classic Art Evening Sale: Antiquity to 20th Century                                                                      7\n",
       "Name: category, dtype: int64"
      ]
     },
     "execution_count": 13,
     "metadata": {},
     "output_type": "execute_result"
    }
   ],
   "source": [
    "df['category'].value_counts()"
   ]
  },
  {
   "cell_type": "code",
   "execution_count": 14,
   "id": "c76b7054",
   "metadata": {},
   "outputs": [
    {
     "data": {
      "image/png": "[encoded data removed]",
      "text/plain": [
       "<Figure size 1152x1440 with 9 Axes>"
      ]
     },
     "metadata": {
      "needs_background": "light"
     },
     "output_type": "display_data"
    }
   ],
   "source": [
    "df.hist(figsize=(16, 20), bins=15, xlabelsize=8, ylabelsize=8);"
   ]
  },
  {
   "cell_type": "code",
   "execution_count": 15,
   "id": "2f9429d5",
   "metadata": {},
   "outputs": [
    {
     "data": {
      "text/plain": [
       "0"
      ]
     },
     "execution_count": 15,
     "metadata": {},
     "output_type": "execute_result"
    }
   ],
   "source": [
    "# check if there are duplicates (the whole row)\n",
    "df.duplicated().sum()\n",
    "# o duplicates = no duplicates found"
   ]
  },
  {
   "cell_type": "code",
   "execution_count": 16,
   "id": "b609947a",
   "metadata": {},
   "outputs": [
    {
     "data": {
      "text/plain": [
       "index_id             10357\n",
       "category                31\n",
       "auction_id              87\n",
       "date                    70\n",
       "location                 6\n",
       "original_currency        3\n",
       "total_sale              87\n",
       "nooflots                72\n",
       "lot                   1116\n",
       "title                 7650\n",
       "descr                 4136\n",
       "measures              6883\n",
       "min_estimated          171\n",
       "max_estimated          190\n",
       "realized               676\n",
       "dtype: int64"
      ]
     },
     "execution_count": 16,
     "metadata": {},
     "output_type": "execute_result"
    }
   ],
   "source": [
    "# check how many uniques are in the dataset\n",
    "df.nunique()"
   ]
  },
  {
   "cell_type": "code",
   "execution_count": 17,
   "id": "3c7cde77",
   "metadata": {},
   "outputs": [
    {
     "data": {
      "text/plain": [
       "True"
      ]
     },
     "execution_count": 17,
     "metadata": {},
     "output_type": "execute_result"
    }
   ],
   "source": [
    "# check for duplicated ids\n",
    "df['title'].duplicated().any()"
   ]
  },
  {
   "cell_type": "code",
   "execution_count": 18,
   "id": "862c95db",
   "metadata": {},
   "outputs": [
    {
     "data": {
      "text/plain": [
       "AN ATTIC BLACK-FIGURED NECK-AMPHORA                                    42\n",
       "A ROMAN CARNELIAN RINGSTONE                                            42\n",
       "AN ATTIC RED-FIGURED KYLIX                                             31\n",
       "AN EGYPTIAN ALABASTER JAR                                              30\n",
       "AN EGYPTIAN BRONZE CAT                                                 28\n",
       "                                                                       ..\n",
       "A MINOAN POTTERY JAR                                                    1\n",
       "A MYCENAEAN POTTERY AMPHORA                                             1\n",
       "A WESTERN ASIATIC BRONZE HELMET                                         1\n",
       "TWO ROMAN GLASS BOTTLES                                                 1\n",
       "A GRAECO-ROMAN ARCHAISTIC MARBLE HERM HEAD OF THE HERMES PROPYLAIOS     1\n",
       "Name: title, Length: 7650, dtype: int64"
      ]
     },
     "execution_count": 18,
     "metadata": {},
     "output_type": "execute_result"
    }
   ],
   "source": [
    "# check for duplicated ids\n",
    "df['title'].value_counts()"
   ]
  },
  {
   "cell_type": "code",
   "execution_count": 19,
   "id": "9950b00c",
   "metadata": {},
   "outputs": [],
   "source": [
    "duplicated_titles = df[df.duplicated(subset=['title'], keep=False)]"
   ]
  },
  {
   "cell_type": "code",
   "execution_count": 20,
   "id": "dc14cae8",
   "metadata": {},
   "outputs": [
    {
     "data": {
      "text/plain": [
       "A ROMAN CARNELIAN RINGSTONE            42\n",
       "AN ATTIC BLACK-FIGURED NECK-AMPHORA    42\n",
       "AN ATTIC RED-FIGURED KYLIX             31\n",
       "AN EGYPTIAN ALABASTER JAR              30\n",
       "AN EGYPTIAN BRONZE CAT                 28\n",
       "                                       ..\n",
       "A LATE ROMAN GLASS BOTTLE               2\n",
       "A BYZANTINE GLASS FLASK                 2\n",
       "A CANOSAN POTTERY OINOCHOE              2\n",
       "A SARDINIAN BRONZE ARCHER               2\n",
       "A PIRAVEND BRONZE MALE FIGURE           2\n",
       "Name: title, Length: 967, dtype: int64"
      ]
     },
     "execution_count": 20,
     "metadata": {},
     "output_type": "execute_result"
    }
   ],
   "source": [
    "duplicated_titles['title'].value_counts()"
   ]
  },
  {
   "cell_type": "code",
   "execution_count": 21,
   "id": "e005ad11",
   "metadata": {},
   "outputs": [
    {
     "data": {
      "text/html": [
       "<div>\n",
       "<style scoped>\n",
       "    .dataframe tbody tr th:only-of-type {\n",
       "        vertical-align: middle;\n",
       "    }\n",
       "\n",
       "    .dataframe tbody tr th {\n",
       "        vertical-align: top;\n",
       "    }\n",
       "\n",
       "    .dataframe thead th {\n",
       "        text-align: right;\n",
       "    }\n",
       "</style>\n",
       "<table border=\"1\" class=\"dataframe\">\n",
       "  <thead>\n",
       "    <tr style=\"text-align: right;\">\n",
       "      <th></th>\n",
       "      <th>index_id</th>\n",
       "      <th>category</th>\n",
       "      <th>auction_id</th>\n",
       "      <th>date</th>\n",
       "      <th>location</th>\n",
       "      <th>original_currency</th>\n",
       "      <th>total_sale</th>\n",
       "      <th>nooflots</th>\n",
       "      <th>lot</th>\n",
       "      <th>title</th>\n",
       "      <th>descr</th>\n",
       "      <th>measures</th>\n",
       "      <th>min_estimated</th>\n",
       "      <th>max_estimated</th>\n",
       "      <th>realized</th>\n",
       "    </tr>\n",
       "  </thead>\n",
       "  <tbody>\n",
       "    <tr>\n",
       "      <th>2</th>\n",
       "      <td>2</td>\n",
       "      <td>Antiquities</td>\n",
       "      <td>19876</td>\n",
       "      <td>8 December 2021</td>\n",
       "      <td>London</td>\n",
       "      <td>GBP</td>\n",
       "      <td>6407750</td>\n",
       "      <td>152</td>\n",
       "      <td>3</td>\n",
       "      <td>AN ATTIC WHITE-GROUND LEKYTHOS</td>\n",
       "      <td>CIRCA MID 5TH CENTURY B.C.</td>\n",
       "      <td>11 1⁄2 in. (29.2 cm.) high</td>\n",
       "      <td>8000</td>\n",
       "      <td>12000</td>\n",
       "      <td>18750</td>\n",
       "    </tr>\n",
       "    <tr>\n",
       "      <th>5</th>\n",
       "      <td>5</td>\n",
       "      <td>Antiquities</td>\n",
       "      <td>19876</td>\n",
       "      <td>8 December 2021</td>\n",
       "      <td>London</td>\n",
       "      <td>GBP</td>\n",
       "      <td>6407750</td>\n",
       "      <td>152</td>\n",
       "      <td>7</td>\n",
       "      <td>AN ATTIC BLACK-FIGURED HYDRIA</td>\n",
       "      <td>ATTRIBUTED TO THE LEAGROS GROUP, CIRCA 520-510...</td>\n",
       "      <td>19 1⁄2 in. (49.5 cm.) high</td>\n",
       "      <td>60000</td>\n",
       "      <td>80000</td>\n",
       "      <td>118750</td>\n",
       "    </tr>\n",
       "    <tr>\n",
       "      <th>6</th>\n",
       "      <td>6</td>\n",
       "      <td>Antiquities</td>\n",
       "      <td>19876</td>\n",
       "      <td>8 December 2021</td>\n",
       "      <td>London</td>\n",
       "      <td>GBP</td>\n",
       "      <td>6407750</td>\n",
       "      <td>152</td>\n",
       "      <td>8</td>\n",
       "      <td>AN ETRUSCAN BRONZE MIRROR</td>\n",
       "      <td>CIRCA 3RD-2ND CENTURY B.C.</td>\n",
       "      <td>7 13⁄16 in. (19.9 cm.) high</td>\n",
       "      <td>1500</td>\n",
       "      <td>2000</td>\n",
       "      <td>4000</td>\n",
       "    </tr>\n",
       "    <tr>\n",
       "      <th>8</th>\n",
       "      <td>8</td>\n",
       "      <td>Antiquities</td>\n",
       "      <td>19876</td>\n",
       "      <td>8 December 2021</td>\n",
       "      <td>London</td>\n",
       "      <td>GBP</td>\n",
       "      <td>6407750</td>\n",
       "      <td>152</td>\n",
       "      <td>11</td>\n",
       "      <td>AN ETRUSCAN BRONZE VOTIVE FEMALE FIGURE</td>\n",
       "      <td>CIRCA EARLY 5TH CENTURY B.C.</td>\n",
       "      <td>4 3⁄8 in. (11 cm.) high</td>\n",
       "      <td>4000</td>\n",
       "      <td>6000</td>\n",
       "      <td>6875</td>\n",
       "    </tr>\n",
       "    <tr>\n",
       "      <th>9</th>\n",
       "      <td>9</td>\n",
       "      <td>Antiquities</td>\n",
       "      <td>19876</td>\n",
       "      <td>8 December 2021</td>\n",
       "      <td>London</td>\n",
       "      <td>GBP</td>\n",
       "      <td>6407750</td>\n",
       "      <td>152</td>\n",
       "      <td>12</td>\n",
       "      <td>AN ATTIC RED-FIGURED NOLAN AMPHORA</td>\n",
       "      <td>ATTRIBUTED TO HERMONAX, CIRCA 470 B.C.</td>\n",
       "      <td>13 3⁄16 in. (33.5 cm.) high</td>\n",
       "      <td>70000</td>\n",
       "      <td>90000</td>\n",
       "      <td>387500</td>\n",
       "    </tr>\n",
       "  </tbody>\n",
       "</table>\n",
       "</div>"
      ],
      "text/plain": [
       "   index_id     category  auction_id             date location  \\\n",
       "2         2  Antiquities       19876  8 December 2021   London   \n",
       "5         5  Antiquities       19876  8 December 2021   London   \n",
       "6         6  Antiquities       19876  8 December 2021   London   \n",
       "8         8  Antiquities       19876  8 December 2021   London   \n",
       "9         9  Antiquities       19876  8 December 2021   London   \n",
       "\n",
       "  original_currency  total_sale  nooflots lot  \\\n",
       "2               GBP     6407750       152   3   \n",
       "5               GBP     6407750       152   7   \n",
       "6               GBP     6407750       152   8   \n",
       "8               GBP     6407750       152  11   \n",
       "9               GBP     6407750       152  12   \n",
       "\n",
       "                                     title  \\\n",
       "2           AN ATTIC WHITE-GROUND LEKYTHOS   \n",
       "5            AN ATTIC BLACK-FIGURED HYDRIA   \n",
       "6                AN ETRUSCAN BRONZE MIRROR   \n",
       "8  AN ETRUSCAN BRONZE VOTIVE FEMALE FIGURE   \n",
       "9       AN ATTIC RED-FIGURED NOLAN AMPHORA   \n",
       "\n",
       "                                               descr  \\\n",
       "2                         CIRCA MID 5TH CENTURY B.C.   \n",
       "5  ATTRIBUTED TO THE LEAGROS GROUP, CIRCA 520-510...   \n",
       "6                         CIRCA 3RD-2ND CENTURY B.C.   \n",
       "8                       CIRCA EARLY 5TH CENTURY B.C.   \n",
       "9             ATTRIBUTED TO HERMONAX, CIRCA 470 B.C.   \n",
       "\n",
       "                      measures  min_estimated  max_estimated  realized  \n",
       "2   11 1⁄2 in. (29.2 cm.) high           8000          12000     18750  \n",
       "5   19 1⁄2 in. (49.5 cm.) high          60000          80000    118750  \n",
       "6  7 13⁄16 in. (19.9 cm.) high           1500           2000      4000  \n",
       "8      4 3⁄8 in. (11 cm.) high           4000           6000      6875  \n",
       "9  13 3⁄16 in. (33.5 cm.) high          70000          90000    387500  "
      ]
     },
     "execution_count": 21,
     "metadata": {},
     "output_type": "execute_result"
    }
   ],
   "source": [
    "duplicated_titles.head()"
   ]
  },
  {
   "cell_type": "code",
   "execution_count": 22,
   "id": "4bf20078",
   "metadata": {},
   "outputs": [
    {
     "data": {
      "text/plain": [
       "{int64: ['index_id', 'auction_id', 'total_sale', 'nooflots', 'min_estimated', 'max_estimated', 'realized'], object: ['category', 'date', 'location', 'original_currency', 'lot', 'title', 'descr', 'measures']}"
      ]
     },
     "execution_count": 22,
     "metadata": {},
     "output_type": "execute_result"
    }
   ],
   "source": [
    "#data types\n",
    "df.columns.to_series().groupby(df.dtypes).groups"
   ]
  },
  {
   "cell_type": "code",
   "execution_count": 23,
   "id": "575289e8",
   "metadata": {},
   "outputs": [
    {
     "name": "stdout",
     "output_type": "stream",
     "text": [
      "<class 'pandas.core.frame.DataFrame'>\n",
      "RangeIndex: 10357 entries, 0 to 10356\n",
      "Data columns (total 15 columns):\n",
      " #   Column             Non-Null Count  Dtype \n",
      "---  ------             --------------  ----- \n",
      " 0   index_id           10357 non-null  int64 \n",
      " 1   category           10357 non-null  object\n",
      " 2   auction_id         10357 non-null  int64 \n",
      " 3   date               10357 non-null  object\n",
      " 4   location           10357 non-null  object\n",
      " 5   original_currency  10357 non-null  object\n",
      " 6   total_sale         10357 non-null  int64 \n",
      " 7   nooflots           10357 non-null  int64 \n",
      " 8   lot                10357 non-null  object\n",
      " 9   title              10357 non-null  object\n",
      " 10  descr              10256 non-null  object\n",
      " 11  measures           10357 non-null  object\n",
      " 12  min_estimated      10357 non-null  int64 \n",
      " 13  max_estimated      10357 non-null  int64 \n",
      " 14  realized           10357 non-null  int64 \n",
      "dtypes: int64(7), object(8)\n",
      "memory usage: 1.2+ MB\n"
     ]
    }
   ],
   "source": [
    "df.info()"
   ]
  },
  {
   "cell_type": "code",
   "execution_count": 24,
   "id": "bbd4c48a",
   "metadata": {},
   "outputs": [
    {
     "data": {
      "text/plain": [
       "<AxesSubplot:>"
      ]
     },
     "execution_count": 24,
     "metadata": {},
     "output_type": "execute_result"
    },
    {
     "data": {
      "image/png": "[encoded data removed]",
      "text/plain": [
       "<Figure size 432x288 with 1 Axes>"
      ]
     },
     "metadata": {
      "needs_background": "light"
     },
     "output_type": "display_data"
    }
   ],
   "source": [
    "df.realized.value_counts().plot(kind='bar')"
   ]
  },
  {
   "cell_type": "code",
   "execution_count": 25,
   "id": "b8e71a22",
   "metadata": {},
   "outputs": [
    {
     "data": {
      "text/plain": [
       "<matplotlib.collections.PathCollection at 0x1ac9f475d30>"
      ]
     },
     "execution_count": 25,
     "metadata": {},
     "output_type": "execute_result"
    },
    {
     "data": {
      "image/png": "[encoded data removed]",
      "text/plain": [
       "<Figure size 432x288 with 1 Axes>"
      ]
     },
     "metadata": {
      "needs_background": "light"
     },
     "output_type": "display_data"
    }
   ],
   "source": [
    "plt.scatter(df.realized,df.location)"
   ]
  },
  {
   "cell_type": "code",
   "execution_count": 26,
   "id": "8bdc937c",
   "metadata": {},
   "outputs": [
    {
     "data": {
      "text/plain": [
       "<matplotlib.collections.PathCollection at 0x1ac9f83a700>"
      ]
     },
     "execution_count": 26,
     "metadata": {},
     "output_type": "execute_result"
    },
    {
     "data": {
      "image/png": "[encoded data removed]",
      "text/plain": [
       "<Figure size 432x288 with 1 Axes>"
      ]
     },
     "metadata": {
      "needs_background": "light"
     },
     "output_type": "display_data"
    }
   ],
   "source": [
    "plt.scatter(df.total_sale,df.location)"
   ]
  },
  {
   "cell_type": "code",
   "execution_count": 27,
   "id": "2c5bcb39",
   "metadata": {
    "scrolled": true
   },
   "outputs": [
    {
     "data": {
      "text/html": [
       "<div>\n",
       "<style scoped>\n",
       "    .dataframe tbody tr th:only-of-type {\n",
       "        vertical-align: middle;\n",
       "    }\n",
       "\n",
       "    .dataframe tbody tr th {\n",
       "        vertical-align: top;\n",
       "    }\n",
       "\n",
       "    .dataframe thead tr th {\n",
       "        text-align: left;\n",
       "    }\n",
       "\n",
       "    .dataframe thead tr:last-of-type th {\n",
       "        text-align: right;\n",
       "    }\n",
       "</style>\n",
       "<table border=\"1\" class=\"dataframe\">\n",
       "  <thead>\n",
       "    <tr>\n",
       "      <th></th>\n",
       "      <th colspan=\"3\" halign=\"left\">total_sale</th>\n",
       "      <th colspan=\"3\" halign=\"left\">realized</th>\n",
       "      <th colspan=\"3\" halign=\"left\">min_estimated</th>\n",
       "      <th colspan=\"3\" halign=\"left\">max_estimated</th>\n",
       "    </tr>\n",
       "    <tr>\n",
       "      <th></th>\n",
       "      <th>mean</th>\n",
       "      <th>min</th>\n",
       "      <th>max</th>\n",
       "      <th>mean</th>\n",
       "      <th>min</th>\n",
       "      <th>max</th>\n",
       "      <th>mean</th>\n",
       "      <th>min</th>\n",
       "      <th>max</th>\n",
       "      <th>mean</th>\n",
       "      <th>min</th>\n",
       "      <th>max</th>\n",
       "    </tr>\n",
       "    <tr>\n",
       "      <th>location</th>\n",
       "      <th></th>\n",
       "      <th></th>\n",
       "      <th></th>\n",
       "      <th></th>\n",
       "      <th></th>\n",
       "      <th></th>\n",
       "      <th></th>\n",
       "      <th></th>\n",
       "      <th></th>\n",
       "      <th></th>\n",
       "      <th></th>\n",
       "      <th></th>\n",
       "    </tr>\n",
       "  </thead>\n",
       "  <tbody>\n",
       "    <tr>\n",
       "      <th>Amsterdam</th>\n",
       "      <td>3655167.0</td>\n",
       "      <td>3655167</td>\n",
       "      <td>3655167</td>\n",
       "      <td>3091.0</td>\n",
       "      <td>36</td>\n",
       "      <td>43290</td>\n",
       "      <td>1292.0</td>\n",
       "      <td>58</td>\n",
       "      <td>23400</td>\n",
       "      <td>1935.0</td>\n",
       "      <td>93</td>\n",
       "      <td>46800</td>\n",
       "    </tr>\n",
       "    <tr>\n",
       "      <th>Christie's Special Exhibition Gallery</th>\n",
       "      <td>11313753.0</td>\n",
       "      <td>2221348</td>\n",
       "      <td>17553639</td>\n",
       "      <td>70968.0</td>\n",
       "      <td>1081</td>\n",
       "      <td>3386845</td>\n",
       "      <td>42905.0</td>\n",
       "      <td>931</td>\n",
       "      <td>2660000</td>\n",
       "      <td>63612.0</td>\n",
       "      <td>1197</td>\n",
       "      <td>3990000</td>\n",
       "    </tr>\n",
       "    <tr>\n",
       "      <th>London</th>\n",
       "      <td>3749374.0</td>\n",
       "      <td>442000</td>\n",
       "      <td>31048500</td>\n",
       "      <td>45130.0</td>\n",
       "      <td>250</td>\n",
       "      <td>15762500</td>\n",
       "      <td>20868.0</td>\n",
       "      <td>250</td>\n",
       "      <td>4000000</td>\n",
       "      <td>31912.0</td>\n",
       "      <td>400</td>\n",
       "      <td>6000000</td>\n",
       "    </tr>\n",
       "    <tr>\n",
       "      <th>London, South Kensington</th>\n",
       "      <td>3962930.0</td>\n",
       "      <td>934850</td>\n",
       "      <td>8080562</td>\n",
       "      <td>18543.0</td>\n",
       "      <td>188</td>\n",
       "      <td>3681250</td>\n",
       "      <td>7371.0</td>\n",
       "      <td>200</td>\n",
       "      <td>400000</td>\n",
       "      <td>10937.0</td>\n",
       "      <td>300</td>\n",
       "      <td>600000</td>\n",
       "    </tr>\n",
       "    <tr>\n",
       "      <th>New York</th>\n",
       "      <td>9503820.0</td>\n",
       "      <td>273481</td>\n",
       "      <td>54393010</td>\n",
       "      <td>86049.0</td>\n",
       "      <td>83</td>\n",
       "      <td>41188437</td>\n",
       "      <td>40047.0</td>\n",
       "      <td>133</td>\n",
       "      <td>19950000</td>\n",
       "      <td>60982.0</td>\n",
       "      <td>266</td>\n",
       "      <td>33250000</td>\n",
       "    </tr>\n",
       "    <tr>\n",
       "      <th>Paris</th>\n",
       "      <td>2980817.0</td>\n",
       "      <td>1668273</td>\n",
       "      <td>3351786</td>\n",
       "      <td>8681.0</td>\n",
       "      <td>58</td>\n",
       "      <td>324090</td>\n",
       "      <td>3590.0</td>\n",
       "      <td>0</td>\n",
       "      <td>93600</td>\n",
       "      <td>5288.0</td>\n",
       "      <td>35</td>\n",
       "      <td>140400</td>\n",
       "    </tr>\n",
       "  </tbody>\n",
       "</table>\n",
       "</div>"
      ],
      "text/plain": [
       "                                       total_sale                    realized  \\\n",
       "                                             mean      min       max     mean   \n",
       "location                                                                        \n",
       "Amsterdam                               3655167.0  3655167   3655167   3091.0   \n",
       "Christie's Special Exhibition Gallery  11313753.0  2221348  17553639  70968.0   \n",
       "London                                  3749374.0   442000  31048500  45130.0   \n",
       "London, South Kensington                3962930.0   934850   8080562  18543.0   \n",
       "New York                                9503820.0   273481  54393010  86049.0   \n",
       "Paris                                   2980817.0  1668273   3351786   8681.0   \n",
       "\n",
       "                                                      min_estimated       \\\n",
       "                                        min       max          mean  min   \n",
       "location                                                                   \n",
       "Amsterdam                                36     43290        1292.0   58   \n",
       "Christie's Special Exhibition Gallery  1081   3386845       42905.0  931   \n",
       "London                                  250  15762500       20868.0  250   \n",
       "London, South Kensington                188   3681250        7371.0  200   \n",
       "New York                                 83  41188437       40047.0  133   \n",
       "Paris                                    58    324090        3590.0    0   \n",
       "\n",
       "                                                max_estimated                  \n",
       "                                            max          mean   min       max  \n",
       "location                                                                       \n",
       "Amsterdam                                 23400        1935.0    93     46800  \n",
       "Christie's Special Exhibition Gallery   2660000       63612.0  1197   3990000  \n",
       "London                                  4000000       31912.0   400   6000000  \n",
       "London, South Kensington                 400000       10937.0   300    600000  \n",
       "New York                               19950000       60982.0   266  33250000  \n",
       "Paris                                     93600        5288.0    35    140400  "
      ]
     },
     "execution_count": 27,
     "metadata": {},
     "output_type": "execute_result"
    }
   ],
   "source": [
    "df_byloc = df.groupby('location').agg({'total_sale':['mean', 'min', 'max'],\n",
    "                                      'realized':['mean', 'min', 'max'],\n",
    "                                      'min_estimated':['mean', 'min', 'max'],\n",
    "                                      'max_estimated':['mean', 'min', 'max']\n",
    "                                      })\n",
    "round(df_byloc)"
   ]
  },
  {
   "cell_type": "code",
   "execution_count": 28,
   "id": "3e74c359",
   "metadata": {},
   "outputs": [
    {
     "data": {
      "text/plain": [
       "total_sale\n",
       "273481          9576\n",
       "442000         27000\n",
       "731416         22876\n",
       "820625         58000\n",
       "845000         78500\n",
       "              ...   \n",
       "23526702     1024100\n",
       "31048500     3940000\n",
       "44145526     3988670\n",
       "47752153    13299335\n",
       "54393010    19870200\n",
       "Name: diff, Length: 87, dtype: int64"
      ]
     },
     "execution_count": 28,
     "metadata": {},
     "output_type": "execute_result"
    }
   ],
   "source": [
    "min_est_diff = df.groupby('total_sale')['min_estimated'].agg(['max','min'])\n",
    "min_est_diff['diff'] = min_est_diff['max']-min_est_diff['min']\n",
    "min_est_diff['diff']"
   ]
  },
  {
   "cell_type": "code",
   "execution_count": 29,
   "id": "40dd02ac",
   "metadata": {},
   "outputs": [
    {
     "data": {
      "text/plain": [
       "title\n",
       "A  PAIR OF CHINESE HARDWOOD STORM LANTERNS     2826.0\n",
       "A  ROMAN BANDED AGATE RINGSTONE                3325.0\n",
       "A  ROMAN CARNELIAN RINGSTONE                   4987.0\n",
       "A 'CAMPANA' FRAGMENTARY TERRACOTTA RELIEF      1625.0\n",
       "A 'KENTIAN'-STYLE SILVERED PINE SIDE TABLE     6875.0\n",
       "                                               ...   \n",
       "WHITE WING SCOTER DRAKE                       15793.0\n",
       "WHITE WINGED SCOTER                            5818.0\n",
       "WHITE-WINGED SCOTER                            2992.0\n",
       "WOOD DUCK DRAKE AND HEN                       83125.0\n",
       "YELLOWLEGS                                     8423.0\n",
       "Name: realized, Length: 7650, dtype: float64"
      ]
     },
     "execution_count": 29,
     "metadata": {},
     "output_type": "execute_result"
    }
   ],
   "source": [
    "df.groupby('title')['realized'].mean()"
   ]
  },
  {
   "cell_type": "code",
   "execution_count": 30,
   "id": "2161ce71",
   "metadata": {},
   "outputs": [
    {
     "data": {
      "text/plain": [
       "location\n",
       "Amsterdam                                 3091.047351\n",
       "Christie's Special Exhibition Gallery    70968.120155\n",
       "London                                   45129.814366\n",
       "London, South Kensington                 18542.707993\n",
       "New York                                 86049.378518\n",
       "Paris                                     8681.221130\n",
       "Name: realized, dtype: float64"
      ]
     },
     "execution_count": 30,
     "metadata": {},
     "output_type": "execute_result"
    }
   ],
   "source": [
    "df.groupby('location')['realized'].mean()"
   ]
  },
  {
   "cell_type": "code",
   "execution_count": 31,
   "id": "1b7db038",
   "metadata": {},
   "outputs": [
    {
     "data": {
      "text/plain": [
       "min_estimated\n",
       "0               1608.00\n",
       "23               702.00\n",
       "35               219.00\n",
       "58              1190.00\n",
       "70              1407.25\n",
       "               ...     \n",
       "3325000      3208625.00\n",
       "3990000     13391437.50\n",
       "4000000     15762500.00\n",
       "13300000    41188437.00\n",
       "19950000    37087050.00\n",
       "Name: realized, Length: 171, dtype: float64"
      ]
     },
     "execution_count": 31,
     "metadata": {},
     "output_type": "execute_result"
    }
   ],
   "source": [
    "df.groupby('min_estimated')['realized'].mean()"
   ]
  },
  {
   "cell_type": "code",
   "execution_count": 32,
   "id": "c15d864a",
   "metadata": {},
   "outputs": [
    {
     "data": {
      "text/plain": [
       "min_estimated\n",
       "0                    NaN\n",
       "23                   NaN\n",
       "35                   NaN\n",
       "58          1.854176e+03\n",
       "70          3.651925e+02\n",
       "                ...     \n",
       "3325000              NaN\n",
       "3990000     1.281601e+07\n",
       "4000000              NaN\n",
       "13300000             NaN\n",
       "19950000             NaN\n",
       "Name: realized, Length: 171, dtype: float64"
      ]
     },
     "execution_count": 32,
     "metadata": {},
     "output_type": "execute_result"
    }
   ],
   "source": [
    "df.groupby('min_estimated')['realized'].std()"
   ]
  },
  {
   "cell_type": "code",
   "execution_count": 33,
   "id": "1d73f31e",
   "metadata": {
    "scrolled": true
   },
   "outputs": [
    {
     "name": "stdout",
     "output_type": "stream",
     "text": [
      "The highest price for which a piece has been sold is: 41188437\n",
      "The lowest price for which a piece has been sold is: 36\n"
     ]
    }
   ],
   "source": [
    "df_max_price = df['realized'].max()\n",
    "print(\"The highest price for which a piece has been sold is:\", round(df_max_price))\n",
    "df_min_price = df['realized'].min()\n",
    "print(\"The lowest price for which a piece has been sold is:\", round(df_min_price))"
   ]
  },
  {
   "cell_type": "code",
   "execution_count": 34,
   "id": "d67cd916",
   "metadata": {},
   "outputs": [
    {
     "data": {
      "text/html": [
       "<div>\n",
       "<style scoped>\n",
       "    .dataframe tbody tr th:only-of-type {\n",
       "        vertical-align: middle;\n",
       "    }\n",
       "\n",
       "    .dataframe tbody tr th {\n",
       "        vertical-align: top;\n",
       "    }\n",
       "\n",
       "    .dataframe thead th {\n",
       "        text-align: right;\n",
       "    }\n",
       "</style>\n",
       "<table border=\"1\" class=\"dataframe\">\n",
       "  <thead>\n",
       "    <tr style=\"text-align: right;\">\n",
       "      <th></th>\n",
       "      <th>index_id</th>\n",
       "      <th>category</th>\n",
       "      <th>auction_id</th>\n",
       "      <th>date</th>\n",
       "      <th>location</th>\n",
       "      <th>original_currency</th>\n",
       "      <th>total_sale</th>\n",
       "      <th>nooflots</th>\n",
       "      <th>lot</th>\n",
       "      <th>title</th>\n",
       "      <th>descr</th>\n",
       "      <th>measures</th>\n",
       "      <th>min_estimated</th>\n",
       "      <th>max_estimated</th>\n",
       "      <th>realized</th>\n",
       "    </tr>\n",
       "  </thead>\n",
       "  <tbody>\n",
       "    <tr>\n",
       "      <th>9324</th>\n",
       "      <td>9346</td>\n",
       "      <td>Twenty rooms: The private collection of the la...</td>\n",
       "      <td>2857</td>\n",
       "      <td>27 April 2010</td>\n",
       "      <td>Amsterdam</td>\n",
       "      <td>EUR</td>\n",
       "      <td>3655167</td>\n",
       "      <td>1128</td>\n",
       "      <td>1177</td>\n",
       "      <td>AN ENGRAVED GILT-BRASS CARD-BOX</td>\n",
       "      <td>CIRCA 1900</td>\n",
       "      <td>7.5 CM. LONG</td>\n",
       "      <td>117</td>\n",
       "      <td>175</td>\n",
       "      <td>36</td>\n",
       "    </tr>\n",
       "    <tr>\n",
       "      <th>9341</th>\n",
       "      <td>9363</td>\n",
       "      <td>Twenty rooms: The private collection of the la...</td>\n",
       "      <td>2857</td>\n",
       "      <td>27 April 2010</td>\n",
       "      <td>Amsterdam</td>\n",
       "      <td>EUR</td>\n",
       "      <td>3655167</td>\n",
       "      <td>1128</td>\n",
       "      <td>1202</td>\n",
       "      <td>A SKETCH OF A DOG</td>\n",
       "      <td>FIRST HALF 20TH CENTURY</td>\n",
       "      <td>28.5 X 29.5 CM.</td>\n",
       "      <td>117</td>\n",
       "      <td>175</td>\n",
       "      <td>36</td>\n",
       "    </tr>\n",
       "  </tbody>\n",
       "</table>\n",
       "</div>"
      ],
      "text/plain": [
       "      index_id                                           category  auction_id  \\\n",
       "9324      9346  Twenty rooms: The private collection of the la...        2857   \n",
       "9341      9363  Twenty rooms: The private collection of the la...        2857   \n",
       "\n",
       "                date   location original_currency  total_sale  nooflots   lot  \\\n",
       "9324  27 April 2010   Amsterdam               EUR     3655167      1128  1177   \n",
       "9341  27 April 2010   Amsterdam               EUR     3655167      1128  1202   \n",
       "\n",
       "                                title                    descr  \\\n",
       "9324  AN ENGRAVED GILT-BRASS CARD-BOX               CIRCA 1900   \n",
       "9341                A SKETCH OF A DOG  FIRST HALF 20TH CENTURY   \n",
       "\n",
       "              measures  min_estimated  max_estimated  realized  \n",
       "9324     7.5 CM. LONG             117            175        36  \n",
       "9341  28.5 X 29.5 CM.             117            175        36  "
      ]
     },
     "execution_count": 34,
     "metadata": {},
     "output_type": "execute_result"
    }
   ],
   "source": [
    "# which is the lowest price ?\n",
    "df.loc[df['realized']==df['realized'].min(),:]"
   ]
  },
  {
   "cell_type": "code",
   "execution_count": 35,
   "id": "994dec51",
   "metadata": {},
   "outputs": [
    {
     "data": {
      "text/html": [
       "<div>\n",
       "<style scoped>\n",
       "    .dataframe tbody tr th:only-of-type {\n",
       "        vertical-align: middle;\n",
       "    }\n",
       "\n",
       "    .dataframe tbody tr th {\n",
       "        vertical-align: top;\n",
       "    }\n",
       "\n",
       "    .dataframe thead th {\n",
       "        text-align: right;\n",
       "    }\n",
       "</style>\n",
       "<table border=\"1\" class=\"dataframe\">\n",
       "  <thead>\n",
       "    <tr style=\"text-align: right;\">\n",
       "      <th></th>\n",
       "      <th>index_id</th>\n",
       "      <th>category</th>\n",
       "      <th>auction_id</th>\n",
       "      <th>date</th>\n",
       "      <th>location</th>\n",
       "      <th>original_currency</th>\n",
       "      <th>total_sale</th>\n",
       "      <th>nooflots</th>\n",
       "      <th>lot</th>\n",
       "      <th>title</th>\n",
       "      <th>descr</th>\n",
       "      <th>measures</th>\n",
       "      <th>min_estimated</th>\n",
       "      <th>max_estimated</th>\n",
       "      <th>realized</th>\n",
       "    </tr>\n",
       "  </thead>\n",
       "  <tbody>\n",
       "    <tr>\n",
       "      <th>1788</th>\n",
       "      <td>1789</td>\n",
       "      <td>Antiquities</td>\n",
       "      <td>15793</td>\n",
       "      <td>31 October 2018</td>\n",
       "      <td>New York</td>\n",
       "      <td>USD</td>\n",
       "      <td>47752153</td>\n",
       "      <td>85</td>\n",
       "      <td>101</td>\n",
       "      <td>AN ASSYRIAN GYPSUM RELIEF OF A WINGED GENIUS</td>\n",
       "      <td>REIGN OF ASHURNASIRPAL II, CIRCA 883-859 B.C.</td>\n",
       "      <td>7 ft., 4 in. x 6 ft., 5 in. (223.5 cm. x 195.5...</td>\n",
       "      <td>13300000</td>\n",
       "      <td>19950000</td>\n",
       "      <td>41188437</td>\n",
       "    </tr>\n",
       "  </tbody>\n",
       "</table>\n",
       "</div>"
      ],
      "text/plain": [
       "      index_id     category  auction_id             date  location  \\\n",
       "1788      1789  Antiquities       15793  31 October 2018  New York   \n",
       "\n",
       "     original_currency  total_sale  nooflots  lot  \\\n",
       "1788               USD    47752153        85  101   \n",
       "\n",
       "                                             title  \\\n",
       "1788  AN ASSYRIAN GYPSUM RELIEF OF A WINGED GENIUS   \n",
       "\n",
       "                                              descr  \\\n",
       "1788  REIGN OF ASHURNASIRPAL II, CIRCA 883-859 B.C.   \n",
       "\n",
       "                                               measures  min_estimated  \\\n",
       "1788  7 ft., 4 in. x 6 ft., 5 in. (223.5 cm. x 195.5...       13300000   \n",
       "\n",
       "      max_estimated  realized  \n",
       "1788       19950000  41188437  "
      ]
     },
     "execution_count": 35,
     "metadata": {},
     "output_type": "execute_result"
    }
   ],
   "source": [
    "# which is the highest price ?\n",
    "df.loc[df['realized']==df['realized'].max(),:]"
   ]
  },
  {
   "cell_type": "code",
   "execution_count": 36,
   "id": "84320b05",
   "metadata": {},
   "outputs": [
    {
     "data": {
      "text/html": [
       "<div>\n",
       "<style scoped>\n",
       "    .dataframe tbody tr th:only-of-type {\n",
       "        vertical-align: middle;\n",
       "    }\n",
       "\n",
       "    .dataframe tbody tr th {\n",
       "        vertical-align: top;\n",
       "    }\n",
       "\n",
       "    .dataframe thead th {\n",
       "        text-align: right;\n",
       "    }\n",
       "</style>\n",
       "<table border=\"1\" class=\"dataframe\">\n",
       "  <thead>\n",
       "    <tr style=\"text-align: right;\">\n",
       "      <th></th>\n",
       "      <th>realized</th>\n",
       "      <th>total_sale</th>\n",
       "      <th>min_estimated</th>\n",
       "      <th>max_estimated</th>\n",
       "    </tr>\n",
       "  </thead>\n",
       "  <tbody>\n",
       "    <tr>\n",
       "      <th>min</th>\n",
       "      <td>36</td>\n",
       "      <td>273481</td>\n",
       "      <td>0</td>\n",
       "      <td>35</td>\n",
       "    </tr>\n",
       "    <tr>\n",
       "      <th>max</th>\n",
       "      <td>41188437</td>\n",
       "      <td>54393010</td>\n",
       "      <td>19950000</td>\n",
       "      <td>33250000</td>\n",
       "    </tr>\n",
       "  </tbody>\n",
       "</table>\n",
       "</div>"
      ],
      "text/plain": [
       "     realized  total_sale  min_estimated  max_estimated\n",
       "min        36      273481              0             35\n",
       "max  41188437    54393010       19950000       33250000"
      ]
     },
     "execution_count": 36,
     "metadata": {},
     "output_type": "execute_result"
    }
   ],
   "source": [
    "highest_lowest = df.agg({'realized':['min', 'max'],\n",
    "                         'total_sale':['min', 'max'],\n",
    "                        'min_estimated':['min', 'max'],\n",
    "                        'max_estimated':['min', 'max']})\n",
    "round(highest_lowest)"
   ]
  },
  {
   "cell_type": "code",
   "execution_count": 37,
   "id": "37bece31",
   "metadata": {},
   "outputs": [
    {
     "data": {
      "text/html": [
       "<div>\n",
       "<style scoped>\n",
       "    .dataframe tbody tr th:only-of-type {\n",
       "        vertical-align: middle;\n",
       "    }\n",
       "\n",
       "    .dataframe tbody tr th {\n",
       "        vertical-align: top;\n",
       "    }\n",
       "\n",
       "    .dataframe thead th {\n",
       "        text-align: right;\n",
       "    }\n",
       "</style>\n",
       "<table border=\"1\" class=\"dataframe\">\n",
       "  <thead>\n",
       "    <tr style=\"text-align: right;\">\n",
       "      <th></th>\n",
       "      <th>index_id</th>\n",
       "      <th>category</th>\n",
       "      <th>auction_id</th>\n",
       "      <th>date</th>\n",
       "      <th>location</th>\n",
       "      <th>original_currency</th>\n",
       "      <th>total_sale</th>\n",
       "      <th>nooflots</th>\n",
       "      <th>lot</th>\n",
       "      <th>title</th>\n",
       "      <th>descr</th>\n",
       "      <th>measures</th>\n",
       "      <th>min_estimated</th>\n",
       "      <th>max_estimated</th>\n",
       "      <th>realized</th>\n",
       "    </tr>\n",
       "  </thead>\n",
       "  <tbody>\n",
       "    <tr>\n",
       "      <th>7361</th>\n",
       "      <td>7383</td>\n",
       "      <td>Collection Jean-Philippe Mariaud de Serres</td>\n",
       "      <td>1054</td>\n",
       "      <td>16 February 2011</td>\n",
       "      <td>Paris</td>\n",
       "      <td>EUR</td>\n",
       "      <td>3203357</td>\n",
       "      <td>374</td>\n",
       "      <td>96</td>\n",
       "      <td>MASQUE PASSEPORT DE STYLE DAN</td>\n",
       "      <td>CÔTE D'IVOIRE</td>\n",
       "      <td>Hauteur: 15 cm (6 in.)</td>\n",
       "      <td>23</td>\n",
       "      <td>35</td>\n",
       "      <td>702</td>\n",
       "    </tr>\n",
       "  </tbody>\n",
       "</table>\n",
       "</div>"
      ],
      "text/plain": [
       "      index_id                                    category  auction_id  \\\n",
       "7361      7383  Collection Jean-Philippe Mariaud de Serres        1054   \n",
       "\n",
       "                   date location original_currency  total_sale  nooflots lot  \\\n",
       "7361  16 February 2011     Paris               EUR     3203357       374  96   \n",
       "\n",
       "                              title          descr                 measures  \\\n",
       "7361  MASQUE PASSEPORT DE STYLE DAN  CÔTE D'IVOIRE  Hauteur: 15 cm (6 in.)    \n",
       "\n",
       "      min_estimated  max_estimated  realized  \n",
       "7361             23             35       702  "
      ]
     },
     "execution_count": 37,
     "metadata": {},
     "output_type": "execute_result"
    }
   ],
   "source": [
    "df.loc[df['max_estimated']==df['max_estimated'].min(),:]"
   ]
  },
  {
   "cell_type": "markdown",
   "id": "ce58fe0d",
   "metadata": {},
   "source": [
    "## IQR"
   ]
  },
  {
   "cell_type": "code",
   "execution_count": 38,
   "id": "60b23311",
   "metadata": {},
   "outputs": [
    {
     "data": {
      "text/plain": [
       "13460.0"
      ]
     },
     "execution_count": 38,
     "metadata": {},
     "output_type": "execute_result"
    }
   ],
   "source": [
    "# find price quartiles\n",
    "iqr=np.percentile(df['max_estimated'],75)-np.percentile(df['max_estimated'],25)\n",
    "iqr"
   ]
  },
  {
   "cell_type": "code",
   "execution_count": 39,
   "id": "4cd0af74",
   "metadata": {},
   "outputs": [
    {
     "data": {
      "text/plain": [
       "9140.0"
      ]
     },
     "execution_count": 39,
     "metadata": {},
     "output_type": "execute_result"
    }
   ],
   "source": [
    "# find price quartiles\n",
    "iqr=np.percentile(df['min_estimated'],75)-np.percentile(df['min_estimated'],25)\n",
    "iqr"
   ]
  },
  {
   "cell_type": "code",
   "execution_count": 40,
   "id": "9acd1a47",
   "metadata": {},
   "outputs": [
    {
     "data": {
      "text/plain": [
       "20592.0"
      ]
     },
     "execution_count": 40,
     "metadata": {},
     "output_type": "execute_result"
    }
   ],
   "source": [
    "# find price quartiles\n",
    "iqr=np.percentile(df['realized'],75)-np.percentile(df['realized'],25)\n",
    "iqr"
   ]
  },
  {
   "cell_type": "code",
   "execution_count": 41,
   "id": "7e59aeba",
   "metadata": {},
   "outputs": [
    {
     "data": {
      "text/plain": [
       "54638.0"
      ]
     },
     "execution_count": 41,
     "metadata": {},
     "output_type": "execute_result"
    }
   ],
   "source": [
    "upper_limit = np.percentile(df['realized'],75)+ 1.5*iqr\n",
    "upper_limit"
   ]
  },
  {
   "cell_type": "code",
   "execution_count": 42,
   "id": "a0ab29d8",
   "metadata": {},
   "outputs": [
    {
     "data": {
      "text/plain": [
       "-27730.0"
      ]
     },
     "execution_count": 42,
     "metadata": {},
     "output_type": "execute_result"
    }
   ],
   "source": [
    "lower_limit= np.percentile(df['realized'],25)- 1.5*iqr\n",
    "lower_limit"
   ]
  },
  {
   "cell_type": "code",
   "execution_count": 43,
   "id": "2f1c2428",
   "metadata": {},
   "outputs": [
    {
     "name": "stdout",
     "output_type": "stream",
     "text": [
      "There are 7 numerical variables\n"
     ]
    }
   ],
   "source": [
    "# find numerical variables\n",
    "numerical = [var for var in df.columns if df[var].dtype!='O']\n",
    "print('There are {} numerical variables'.format(len(numerical)))"
   ]
  },
  {
   "cell_type": "code",
   "execution_count": 44,
   "id": "64592feb",
   "metadata": {},
   "outputs": [
    {
     "data": {
      "text/html": [
       "<div>\n",
       "<style scoped>\n",
       "    .dataframe tbody tr th:only-of-type {\n",
       "        vertical-align: middle;\n",
       "    }\n",
       "\n",
       "    .dataframe tbody tr th {\n",
       "        vertical-align: top;\n",
       "    }\n",
       "\n",
       "    .dataframe thead th {\n",
       "        text-align: right;\n",
       "    }\n",
       "</style>\n",
       "<table border=\"1\" class=\"dataframe\">\n",
       "  <thead>\n",
       "    <tr style=\"text-align: right;\">\n",
       "      <th></th>\n",
       "      <th>index_id</th>\n",
       "      <th>auction_id</th>\n",
       "      <th>total_sale</th>\n",
       "      <th>nooflots</th>\n",
       "      <th>min_estimated</th>\n",
       "      <th>max_estimated</th>\n",
       "      <th>realized</th>\n",
       "    </tr>\n",
       "  </thead>\n",
       "  <tbody>\n",
       "    <tr>\n",
       "      <th>0</th>\n",
       "      <td>0</td>\n",
       "      <td>19876</td>\n",
       "      <td>6407750</td>\n",
       "      <td>152</td>\n",
       "      <td>6000</td>\n",
       "      <td>8000</td>\n",
       "      <td>8125</td>\n",
       "    </tr>\n",
       "    <tr>\n",
       "      <th>1</th>\n",
       "      <td>1</td>\n",
       "      <td>19876</td>\n",
       "      <td>6407750</td>\n",
       "      <td>152</td>\n",
       "      <td>400</td>\n",
       "      <td>600</td>\n",
       "      <td>1500</td>\n",
       "    </tr>\n",
       "    <tr>\n",
       "      <th>2</th>\n",
       "      <td>2</td>\n",
       "      <td>19876</td>\n",
       "      <td>6407750</td>\n",
       "      <td>152</td>\n",
       "      <td>8000</td>\n",
       "      <td>12000</td>\n",
       "      <td>18750</td>\n",
       "    </tr>\n",
       "    <tr>\n",
       "      <th>3</th>\n",
       "      <td>3</td>\n",
       "      <td>19876</td>\n",
       "      <td>6407750</td>\n",
       "      <td>152</td>\n",
       "      <td>2500</td>\n",
       "      <td>3500</td>\n",
       "      <td>4375</td>\n",
       "    </tr>\n",
       "    <tr>\n",
       "      <th>4</th>\n",
       "      <td>4</td>\n",
       "      <td>19876</td>\n",
       "      <td>6407750</td>\n",
       "      <td>152</td>\n",
       "      <td>1500</td>\n",
       "      <td>2500</td>\n",
       "      <td>2500</td>\n",
       "    </tr>\n",
       "    <tr>\n",
       "      <th>...</th>\n",
       "      <td>...</td>\n",
       "      <td>...</td>\n",
       "      <td>...</td>\n",
       "      <td>...</td>\n",
       "      <td>...</td>\n",
       "      <td>...</td>\n",
       "      <td>...</td>\n",
       "    </tr>\n",
       "    <tr>\n",
       "      <th>10352</th>\n",
       "      <td>10374</td>\n",
       "      <td>5951</td>\n",
       "      <td>1036687</td>\n",
       "      <td>200</td>\n",
       "      <td>600</td>\n",
       "      <td>900</td>\n",
       "      <td>2000</td>\n",
       "    </tr>\n",
       "    <tr>\n",
       "      <th>10353</th>\n",
       "      <td>10375</td>\n",
       "      <td>5951</td>\n",
       "      <td>1036687</td>\n",
       "      <td>200</td>\n",
       "      <td>3000</td>\n",
       "      <td>5000</td>\n",
       "      <td>6875</td>\n",
       "    </tr>\n",
       "    <tr>\n",
       "      <th>10354</th>\n",
       "      <td>10376</td>\n",
       "      <td>5951</td>\n",
       "      <td>1036687</td>\n",
       "      <td>200</td>\n",
       "      <td>1500</td>\n",
       "      <td>2500</td>\n",
       "      <td>3250</td>\n",
       "    </tr>\n",
       "    <tr>\n",
       "      <th>10355</th>\n",
       "      <td>10377</td>\n",
       "      <td>5951</td>\n",
       "      <td>1036687</td>\n",
       "      <td>200</td>\n",
       "      <td>2000</td>\n",
       "      <td>2500</td>\n",
       "      <td>4750</td>\n",
       "    </tr>\n",
       "    <tr>\n",
       "      <th>10356</th>\n",
       "      <td>10378</td>\n",
       "      <td>5951</td>\n",
       "      <td>1036687</td>\n",
       "      <td>200</td>\n",
       "      <td>9000</td>\n",
       "      <td>15000</td>\n",
       "      <td>15625</td>\n",
       "    </tr>\n",
       "  </tbody>\n",
       "</table>\n",
       "<p>10357 rows × 7 columns</p>\n",
       "</div>"
      ],
      "text/plain": [
       "       index_id  auction_id  total_sale  nooflots  min_estimated  \\\n",
       "0             0       19876     6407750       152           6000   \n",
       "1             1       19876     6407750       152            400   \n",
       "2             2       19876     6407750       152           8000   \n",
       "3             3       19876     6407750       152           2500   \n",
       "4             4       19876     6407750       152           1500   \n",
       "...         ...         ...         ...       ...            ...   \n",
       "10352     10374        5951     1036687       200            600   \n",
       "10353     10375        5951     1036687       200           3000   \n",
       "10354     10376        5951     1036687       200           1500   \n",
       "10355     10377        5951     1036687       200           2000   \n",
       "10356     10378        5951     1036687       200           9000   \n",
       "\n",
       "       max_estimated  realized  \n",
       "0               8000      8125  \n",
       "1                600      1500  \n",
       "2              12000     18750  \n",
       "3               3500      4375  \n",
       "4               2500      2500  \n",
       "...              ...       ...  \n",
       "10352            900      2000  \n",
       "10353           5000      6875  \n",
       "10354           2500      3250  \n",
       "10355           2500      4750  \n",
       "10356          15000     15625  \n",
       "\n",
       "[10357 rows x 7 columns]"
      ]
     },
     "execution_count": 44,
     "metadata": {},
     "output_type": "execute_result"
    }
   ],
   "source": [
    "#select numerical columns\n",
    "num=df.select_dtypes(np.number)\n",
    "num"
   ]
  },
  {
   "cell_type": "code",
   "execution_count": 45,
   "id": "8983902c",
   "metadata": {},
   "outputs": [
    {
     "name": "stdout",
     "output_type": "stream",
     "text": [
      "auction_id  values:  [19876 19992 19443 19875 19738 18864 19032 18865 18874 18863 19054 19058\n",
      " 18699 19618 18931 17288 18836 17643 18807 17486 17198 17737 17459 17695\n",
      " 17484 16396 15502 15793 15501 16723 15792 14231 14356 14230 14355 12240\n",
      " 14490 12257 13850 12239 12256  3798 10373  3748 10372  3498  3403  3459\n",
      "  1561  1541  2856  1548  2771  2755  1174  2775  3433  2709  8776  3573\n",
      "  2773  2770  2605  6277  7207  2565  4925  7758  2491  2490  2390  2450\n",
      "  6060  1054  2375  2364  5488  2323  5487  2857  2398  2233  2232  5952\n",
      "  2273  2174  5951]\n",
      "total_sale  values:  [ 6407750 11812727 19537500  2549875  5905698  4337125 23526702  9139261\n",
      " 21157250   845000   442000  3579030  2596825  1676631  1668273  3349625\n",
      "  2105875  7788646  4043698  1903500  3183875  4096750 11507326 14151865\n",
      "  1361875   273481  2166125 47752153  1917625 15476378  5608443  2439500\n",
      "  8178668  4613750  3282772   820625  3013125  5354746   873875  3883188\n",
      "  7547167  5358652  2859375  9245827  3315375   978381 10007502 54393010\n",
      "  3473188 31048500  6134791  1868200  1867236  5861642  3408250  4258908\n",
      "  2564073 10877021  4241775  3351786  8605681  1852357 10925866  3912950\n",
      "  8080562 11927938  3911587  1861862  2221348 17553639  3491862 13769656\n",
      "  5245175  3203357  1199327 44145526  4801575 11563518  3030750  3655167\n",
      "  1542716   731416 11013098   934850  8676004  4535466  1036687]\n",
      "nooflots  values:  [ 152  108   29   67  100   55   22   72   49   40   13   46   57   27\n",
      "  102   47   19   24  128   69  390   75  124   45   85   86  182   68\n",
      "   95   81  162   64   63   41  119   60  114  131  133  140  143   30\n",
      "  165   33  127  123   99  288  229  120  445  112  104  227  183  192\n",
      "  105  154  198  137  266  374  242  107  299 1128  160  109  149  199\n",
      "  146  200]\n",
      "There are 3 discrete variables\n"
     ]
    }
   ],
   "source": [
    "#  discrete variables\n",
    "discrete = []\n",
    "for var in num:\n",
    "    if len(df[var].unique())<90:\n",
    "        print(var, ' values: ', df[var].unique())\n",
    "        discrete.append(var)\n",
    "        \n",
    "print('There are {} discrete variables'.format(len(discrete)))"
   ]
  },
  {
   "cell_type": "code",
   "execution_count": 46,
   "id": "040421af",
   "metadata": {},
   "outputs": [
    {
     "data": {
      "text/plain": [
       "['index_id', 'min_estimated', 'max_estimated']"
      ]
     },
     "execution_count": 46,
     "metadata": {},
     "output_type": "execute_result"
    }
   ],
   "source": [
    "#  continuous variables\n",
    "continuous = [var for var in num if var not in discrete and var not in ['realized']]\n",
    "continuous"
   ]
  },
  {
   "cell_type": "code",
   "execution_count": 47,
   "id": "a6124bcc",
   "metadata": {},
   "outputs": [
    {
     "name": "stdout",
     "output_type": "stream",
     "text": [
      "There are 8 categorical variables\n"
     ]
    }
   ],
   "source": [
    "# find categorical variables\n",
    "categorical = [var for var in df.columns if df[var].dtype=='O']\n",
    "print('There are {} categorical variables'.format(len(categorical)))"
   ]
  },
  {
   "cell_type": "code",
   "execution_count": 48,
   "id": "de4a6ead",
   "metadata": {},
   "outputs": [
    {
     "data": {
      "text/html": [
       "<div>\n",
       "<style scoped>\n",
       "    .dataframe tbody tr th:only-of-type {\n",
       "        vertical-align: middle;\n",
       "    }\n",
       "\n",
       "    .dataframe tbody tr th {\n",
       "        vertical-align: top;\n",
       "    }\n",
       "\n",
       "    .dataframe thead th {\n",
       "        text-align: right;\n",
       "    }\n",
       "</style>\n",
       "<table border=\"1\" class=\"dataframe\">\n",
       "  <thead>\n",
       "    <tr style=\"text-align: right;\">\n",
       "      <th></th>\n",
       "      <th>category</th>\n",
       "      <th>date</th>\n",
       "      <th>location</th>\n",
       "      <th>original_currency</th>\n",
       "      <th>lot</th>\n",
       "      <th>title</th>\n",
       "      <th>descr</th>\n",
       "      <th>measures</th>\n",
       "    </tr>\n",
       "  </thead>\n",
       "  <tbody>\n",
       "    <tr>\n",
       "      <th>0</th>\n",
       "      <td>Antiquities</td>\n",
       "      <td>8 December 2021</td>\n",
       "      <td>London</td>\n",
       "      <td>GBP</td>\n",
       "      <td>1</td>\n",
       "      <td>AN ATTIC BLACK-FIGURED TREFOIL-LIPPED OINOCHOE</td>\n",
       "      <td>ATTRIBUTED TO THE GELA PAINTER, CIRCA 510-490 ...</td>\n",
       "      <td>6 3⁄4 in. (17.2 cm.) high</td>\n",
       "    </tr>\n",
       "    <tr>\n",
       "      <th>1</th>\n",
       "      <td>Antiquities</td>\n",
       "      <td>8 December 2021</td>\n",
       "      <td>London</td>\n",
       "      <td>GBP</td>\n",
       "      <td>2</td>\n",
       "      <td>A GREEK MEGARIAN WARE POTTERY BOWL</td>\n",
       "      <td>HELLENISTIC PERIOD, CIRCA 2ND CENTURY B.C.</td>\n",
       "      <td>5 5⁄8 in. (14.2 cm.) diameter</td>\n",
       "    </tr>\n",
       "    <tr>\n",
       "      <th>2</th>\n",
       "      <td>Antiquities</td>\n",
       "      <td>8 December 2021</td>\n",
       "      <td>London</td>\n",
       "      <td>GBP</td>\n",
       "      <td>3</td>\n",
       "      <td>AN ATTIC WHITE-GROUND LEKYTHOS</td>\n",
       "      <td>CIRCA MID 5TH CENTURY B.C.</td>\n",
       "      <td>11 1⁄2 in. (29.2 cm.) high</td>\n",
       "    </tr>\n",
       "    <tr>\n",
       "      <th>3</th>\n",
       "      <td>Antiquities</td>\n",
       "      <td>8 December 2021</td>\n",
       "      <td>London</td>\n",
       "      <td>GBP</td>\n",
       "      <td>5</td>\n",
       "      <td>SEVEN GREEK TERRACOTTAS</td>\n",
       "      <td>HELLENISTIC PERIOD, CIRCA 3RD-2ND CENTURY B.C.</td>\n",
       "      <td>4 3⁄8 in. (11 cm.) long max.</td>\n",
       "    </tr>\n",
       "    <tr>\n",
       "      <th>4</th>\n",
       "      <td>Antiquities</td>\n",
       "      <td>8 December 2021</td>\n",
       "      <td>London</td>\n",
       "      <td>GBP</td>\n",
       "      <td>6</td>\n",
       "      <td>AN ETRUSCAN BRONZE HANDLE FRAGMENT</td>\n",
       "      <td>CIRCA 5TH-4TH CENTURY B.C.</td>\n",
       "      <td>8 3⁄8 in. (21.3 cm.) high</td>\n",
       "    </tr>\n",
       "    <tr>\n",
       "      <th>...</th>\n",
       "      <td>...</td>\n",
       "      <td>...</td>\n",
       "      <td>...</td>\n",
       "      <td>...</td>\n",
       "      <td>...</td>\n",
       "      <td>...</td>\n",
       "      <td>...</td>\n",
       "      <td>...</td>\n",
       "    </tr>\n",
       "    <tr>\n",
       "      <th>10352</th>\n",
       "      <td>Antiquities Including the Plesch Collection of...</td>\n",
       "      <td>28 April 2009</td>\n",
       "      <td>London, South Kensington</td>\n",
       "      <td>GBP</td>\n",
       "      <td>243</td>\n",
       "      <td>A GREEK STYLE POTTERY MULE HEAD RHYTON</td>\n",
       "      <td>AFTER THE ANTIQUE</td>\n",
       "      <td>8¼ in. (21 cm.) and 12 in. (30.5 cm.) high res...</td>\n",
       "    </tr>\n",
       "    <tr>\n",
       "      <th>10353</th>\n",
       "      <td>Antiquities Including the Plesch Collection of...</td>\n",
       "      <td>28 April 2009</td>\n",
       "      <td>London, South Kensington</td>\n",
       "      <td>GBP</td>\n",
       "      <td>244</td>\n",
       "      <td>A LARGE ATTIC BLACK GLAZED POTTERY HYDRIA</td>\n",
       "      <td>4TH CENTURY B.C.</td>\n",
       "      <td>24 in. (61 cm.) and 7½ in. (19 cm.) high respe...</td>\n",
       "    </tr>\n",
       "    <tr>\n",
       "      <th>10354</th>\n",
       "      <td>Antiquities Including the Plesch Collection of...</td>\n",
       "      <td>28 April 2009</td>\n",
       "      <td>London, South Kensington</td>\n",
       "      <td>GBP</td>\n",
       "      <td>245</td>\n",
       "      <td>AN APULIAN RED-FIGURE FISH PLATE, ATTRIBUTED T...</td>\n",
       "      <td>CIRCA 330 B.C.</td>\n",
       "      <td>9 in. (23 cm.) diam.</td>\n",
       "    </tr>\n",
       "    <tr>\n",
       "      <th>10355</th>\n",
       "      <td>Antiquities Including the Plesch Collection of...</td>\n",
       "      <td>28 April 2009</td>\n",
       "      <td>London, South Kensington</td>\n",
       "      <td>GBP</td>\n",
       "      <td>246</td>\n",
       "      <td>AN APULIAN RED-FIGURE KANTHAROS, ATTRIBUTED TO...</td>\n",
       "      <td>CIRCA 4TH CENTURY B.C.</td>\n",
       "      <td>13 in. (33 cm.) high</td>\n",
       "    </tr>\n",
       "    <tr>\n",
       "      <th>10356</th>\n",
       "      <td>Antiquities Including the Plesch Collection of...</td>\n",
       "      <td>28 April 2009</td>\n",
       "      <td>London, South Kensington</td>\n",
       "      <td>GBP</td>\n",
       "      <td>248</td>\n",
       "      <td>A GRAECO-ROMAN ARCHAISTIC MARBLE HERM HEAD OF ...</td>\n",
       "      <td>CIRCA 1ST CENTURY B.C., AFTER A GREEK ORIGINAL...</td>\n",
       "      <td>8 in. (20.5 cm.) high</td>\n",
       "    </tr>\n",
       "  </tbody>\n",
       "</table>\n",
       "<p>10357 rows × 8 columns</p>\n",
       "</div>"
      ],
      "text/plain": [
       "                                                category             date  \\\n",
       "0                                            Antiquities  8 December 2021   \n",
       "1                                            Antiquities  8 December 2021   \n",
       "2                                            Antiquities  8 December 2021   \n",
       "3                                            Antiquities  8 December 2021   \n",
       "4                                            Antiquities  8 December 2021   \n",
       "...                                                  ...              ...   \n",
       "10352  Antiquities Including the Plesch Collection of...    28 April 2009   \n",
       "10353  Antiquities Including the Plesch Collection of...    28 April 2009   \n",
       "10354  Antiquities Including the Plesch Collection of...    28 April 2009   \n",
       "10355  Antiquities Including the Plesch Collection of...    28 April 2009   \n",
       "10356  Antiquities Including the Plesch Collection of...    28 April 2009   \n",
       "\n",
       "                       location original_currency  lot  \\\n",
       "0                        London               GBP    1   \n",
       "1                        London               GBP    2   \n",
       "2                        London               GBP    3   \n",
       "3                        London               GBP    5   \n",
       "4                        London               GBP    6   \n",
       "...                         ...               ...  ...   \n",
       "10352  London, South Kensington               GBP  243   \n",
       "10353  London, South Kensington               GBP  244   \n",
       "10354  London, South Kensington               GBP  245   \n",
       "10355  London, South Kensington               GBP  246   \n",
       "10356  London, South Kensington               GBP  248   \n",
       "\n",
       "                                                   title  \\\n",
       "0         AN ATTIC BLACK-FIGURED TREFOIL-LIPPED OINOCHOE   \n",
       "1                     A GREEK MEGARIAN WARE POTTERY BOWL   \n",
       "2                         AN ATTIC WHITE-GROUND LEKYTHOS   \n",
       "3                                SEVEN GREEK TERRACOTTAS   \n",
       "4                     AN ETRUSCAN BRONZE HANDLE FRAGMENT   \n",
       "...                                                  ...   \n",
       "10352             A GREEK STYLE POTTERY MULE HEAD RHYTON   \n",
       "10353          A LARGE ATTIC BLACK GLAZED POTTERY HYDRIA   \n",
       "10354  AN APULIAN RED-FIGURE FISH PLATE, ATTRIBUTED T...   \n",
       "10355  AN APULIAN RED-FIGURE KANTHAROS, ATTRIBUTED TO...   \n",
       "10356  A GRAECO-ROMAN ARCHAISTIC MARBLE HERM HEAD OF ...   \n",
       "\n",
       "                                                   descr  \\\n",
       "0      ATTRIBUTED TO THE GELA PAINTER, CIRCA 510-490 ...   \n",
       "1             HELLENISTIC PERIOD, CIRCA 2ND CENTURY B.C.   \n",
       "2                             CIRCA MID 5TH CENTURY B.C.   \n",
       "3         HELLENISTIC PERIOD, CIRCA 3RD-2ND CENTURY B.C.   \n",
       "4                             CIRCA 5TH-4TH CENTURY B.C.   \n",
       "...                                                  ...   \n",
       "10352                                  AFTER THE ANTIQUE   \n",
       "10353                                   4TH CENTURY B.C.   \n",
       "10354                                     CIRCA 330 B.C.   \n",
       "10355                             CIRCA 4TH CENTURY B.C.   \n",
       "10356  CIRCA 1ST CENTURY B.C., AFTER A GREEK ORIGINAL...   \n",
       "\n",
       "                                                measures  \n",
       "0                              6 3⁄4 in. (17.2 cm.) high  \n",
       "1                          5 5⁄8 in. (14.2 cm.) diameter  \n",
       "2                             11 1⁄2 in. (29.2 cm.) high  \n",
       "3                           4 3⁄8 in. (11 cm.) long max.  \n",
       "4                              8 3⁄8 in. (21.3 cm.) high  \n",
       "...                                                  ...  \n",
       "10352  8¼ in. (21 cm.) and 12 in. (30.5 cm.) high res...  \n",
       "10353  24 in. (61 cm.) and 7½ in. (19 cm.) high respe...  \n",
       "10354                              9 in. (23 cm.) diam.   \n",
       "10355                              13 in. (33 cm.) high   \n",
       "10356                             8 in. (20.5 cm.) high   \n",
       "\n",
       "[10357 rows x 8 columns]"
      ]
     },
     "execution_count": 48,
     "metadata": {},
     "output_type": "execute_result"
    }
   ],
   "source": [
    "#select categorical columns\n",
    "cat=df.select_dtypes(include='object')\n",
    "cat"
   ]
  },
  {
   "cell_type": "code",
   "execution_count": 49,
   "id": "df941cc9",
   "metadata": {
    "scrolled": true
   },
   "outputs": [
    {
     "data": {
      "text/html": [
       "<div>\n",
       "<style scoped>\n",
       "    .dataframe tbody tr th:only-of-type {\n",
       "        vertical-align: middle;\n",
       "    }\n",
       "\n",
       "    .dataframe tbody tr th {\n",
       "        vertical-align: top;\n",
       "    }\n",
       "\n",
       "    .dataframe thead th {\n",
       "        text-align: right;\n",
       "    }\n",
       "</style>\n",
       "<table border=\"1\" class=\"dataframe\">\n",
       "  <thead>\n",
       "    <tr style=\"text-align: right;\">\n",
       "      <th></th>\n",
       "      <th>index_id</th>\n",
       "      <th>auction_id</th>\n",
       "      <th>total_sale</th>\n",
       "      <th>nooflots</th>\n",
       "      <th>min_estimated</th>\n",
       "      <th>max_estimated</th>\n",
       "      <th>realized</th>\n",
       "    </tr>\n",
       "  </thead>\n",
       "  <tbody>\n",
       "    <tr>\n",
       "      <th>0</th>\n",
       "      <td>0</td>\n",
       "      <td>19876</td>\n",
       "      <td>6407750</td>\n",
       "      <td>152</td>\n",
       "      <td>6000</td>\n",
       "      <td>8000</td>\n",
       "      <td>8125</td>\n",
       "    </tr>\n",
       "    <tr>\n",
       "      <th>1</th>\n",
       "      <td>1</td>\n",
       "      <td>19876</td>\n",
       "      <td>6407750</td>\n",
       "      <td>152</td>\n",
       "      <td>400</td>\n",
       "      <td>600</td>\n",
       "      <td>1500</td>\n",
       "    </tr>\n",
       "    <tr>\n",
       "      <th>2</th>\n",
       "      <td>2</td>\n",
       "      <td>19876</td>\n",
       "      <td>6407750</td>\n",
       "      <td>152</td>\n",
       "      <td>8000</td>\n",
       "      <td>12000</td>\n",
       "      <td>18750</td>\n",
       "    </tr>\n",
       "    <tr>\n",
       "      <th>3</th>\n",
       "      <td>3</td>\n",
       "      <td>19876</td>\n",
       "      <td>6407750</td>\n",
       "      <td>152</td>\n",
       "      <td>2500</td>\n",
       "      <td>3500</td>\n",
       "      <td>4375</td>\n",
       "    </tr>\n",
       "    <tr>\n",
       "      <th>4</th>\n",
       "      <td>4</td>\n",
       "      <td>19876</td>\n",
       "      <td>6407750</td>\n",
       "      <td>152</td>\n",
       "      <td>1500</td>\n",
       "      <td>2500</td>\n",
       "      <td>2500</td>\n",
       "    </tr>\n",
       "    <tr>\n",
       "      <th>...</th>\n",
       "      <td>...</td>\n",
       "      <td>...</td>\n",
       "      <td>...</td>\n",
       "      <td>...</td>\n",
       "      <td>...</td>\n",
       "      <td>...</td>\n",
       "      <td>...</td>\n",
       "    </tr>\n",
       "    <tr>\n",
       "      <th>10352</th>\n",
       "      <td>10374</td>\n",
       "      <td>5951</td>\n",
       "      <td>1036687</td>\n",
       "      <td>200</td>\n",
       "      <td>600</td>\n",
       "      <td>900</td>\n",
       "      <td>2000</td>\n",
       "    </tr>\n",
       "    <tr>\n",
       "      <th>10353</th>\n",
       "      <td>10375</td>\n",
       "      <td>5951</td>\n",
       "      <td>1036687</td>\n",
       "      <td>200</td>\n",
       "      <td>3000</td>\n",
       "      <td>5000</td>\n",
       "      <td>6875</td>\n",
       "    </tr>\n",
       "    <tr>\n",
       "      <th>10354</th>\n",
       "      <td>10376</td>\n",
       "      <td>5951</td>\n",
       "      <td>1036687</td>\n",
       "      <td>200</td>\n",
       "      <td>1500</td>\n",
       "      <td>2500</td>\n",
       "      <td>3250</td>\n",
       "    </tr>\n",
       "    <tr>\n",
       "      <th>10355</th>\n",
       "      <td>10377</td>\n",
       "      <td>5951</td>\n",
       "      <td>1036687</td>\n",
       "      <td>200</td>\n",
       "      <td>2000</td>\n",
       "      <td>2500</td>\n",
       "      <td>4750</td>\n",
       "    </tr>\n",
       "    <tr>\n",
       "      <th>10356</th>\n",
       "      <td>10378</td>\n",
       "      <td>5951</td>\n",
       "      <td>1036687</td>\n",
       "      <td>200</td>\n",
       "      <td>9000</td>\n",
       "      <td>15000</td>\n",
       "      <td>15625</td>\n",
       "    </tr>\n",
       "  </tbody>\n",
       "</table>\n",
       "<p>10357 rows × 7 columns</p>\n",
       "</div>"
      ],
      "text/plain": [
       "       index_id  auction_id  total_sale  nooflots  min_estimated  \\\n",
       "0             0       19876     6407750       152           6000   \n",
       "1             1       19876     6407750       152            400   \n",
       "2             2       19876     6407750       152           8000   \n",
       "3             3       19876     6407750       152           2500   \n",
       "4             4       19876     6407750       152           1500   \n",
       "...         ...         ...         ...       ...            ...   \n",
       "10352     10374        5951     1036687       200            600   \n",
       "10353     10375        5951     1036687       200           3000   \n",
       "10354     10376        5951     1036687       200           1500   \n",
       "10355     10377        5951     1036687       200           2000   \n",
       "10356     10378        5951     1036687       200           9000   \n",
       "\n",
       "       max_estimated  realized  \n",
       "0               8000      8125  \n",
       "1                600      1500  \n",
       "2              12000     18750  \n",
       "3               3500      4375  \n",
       "4               2500      2500  \n",
       "...              ...       ...  \n",
       "10352            900      2000  \n",
       "10353           5000      6875  \n",
       "10354           2500      3250  \n",
       "10355           2500      4750  \n",
       "10356          15000     15625  \n",
       "\n",
       "[10357 rows x 7 columns]"
      ]
     },
     "execution_count": 49,
     "metadata": {},
     "output_type": "execute_result"
    }
   ],
   "source": [
    "#select numerical columns\n",
    "num=df.select_dtypes(np.number)\n",
    "num"
   ]
  },
  {
   "cell_type": "code",
   "execution_count": 50,
   "id": "f5d15cf6",
   "metadata": {},
   "outputs": [
    {
     "data": {
      "text/html": [
       "<div>\n",
       "<style scoped>\n",
       "    .dataframe tbody tr th:only-of-type {\n",
       "        vertical-align: middle;\n",
       "    }\n",
       "\n",
       "    .dataframe tbody tr th {\n",
       "        vertical-align: top;\n",
       "    }\n",
       "\n",
       "    .dataframe thead th {\n",
       "        text-align: right;\n",
       "    }\n",
       "</style>\n",
       "<table border=\"1\" class=\"dataframe\">\n",
       "  <thead>\n",
       "    <tr style=\"text-align: right;\">\n",
       "      <th></th>\n",
       "      <th>category</th>\n",
       "      <th>date</th>\n",
       "      <th>location</th>\n",
       "      <th>original_currency</th>\n",
       "      <th>lot</th>\n",
       "      <th>title</th>\n",
       "      <th>descr</th>\n",
       "      <th>measures</th>\n",
       "    </tr>\n",
       "  </thead>\n",
       "  <tbody>\n",
       "    <tr>\n",
       "      <th>0</th>\n",
       "      <td>Antiquities</td>\n",
       "      <td>8 December 2021</td>\n",
       "      <td>London</td>\n",
       "      <td>GBP</td>\n",
       "      <td>1</td>\n",
       "      <td>AN ATTIC BLACK-FIGURED TREFOIL-LIPPED OINOCHOE</td>\n",
       "      <td>ATTRIBUTED TO THE GELA PAINTER, CIRCA 510-490 ...</td>\n",
       "      <td>6 3⁄4 in. (17.2 cm.) high</td>\n",
       "    </tr>\n",
       "    <tr>\n",
       "      <th>1</th>\n",
       "      <td>Antiquities</td>\n",
       "      <td>8 December 2021</td>\n",
       "      <td>London</td>\n",
       "      <td>GBP</td>\n",
       "      <td>2</td>\n",
       "      <td>A GREEK MEGARIAN WARE POTTERY BOWL</td>\n",
       "      <td>HELLENISTIC PERIOD, CIRCA 2ND CENTURY B.C.</td>\n",
       "      <td>5 5⁄8 in. (14.2 cm.) diameter</td>\n",
       "    </tr>\n",
       "    <tr>\n",
       "      <th>2</th>\n",
       "      <td>Antiquities</td>\n",
       "      <td>8 December 2021</td>\n",
       "      <td>London</td>\n",
       "      <td>GBP</td>\n",
       "      <td>3</td>\n",
       "      <td>AN ATTIC WHITE-GROUND LEKYTHOS</td>\n",
       "      <td>CIRCA MID 5TH CENTURY B.C.</td>\n",
       "      <td>11 1⁄2 in. (29.2 cm.) high</td>\n",
       "    </tr>\n",
       "    <tr>\n",
       "      <th>3</th>\n",
       "      <td>Antiquities</td>\n",
       "      <td>8 December 2021</td>\n",
       "      <td>London</td>\n",
       "      <td>GBP</td>\n",
       "      <td>5</td>\n",
       "      <td>SEVEN GREEK TERRACOTTAS</td>\n",
       "      <td>HELLENISTIC PERIOD, CIRCA 3RD-2ND CENTURY B.C.</td>\n",
       "      <td>4 3⁄8 in. (11 cm.) long max.</td>\n",
       "    </tr>\n",
       "    <tr>\n",
       "      <th>4</th>\n",
       "      <td>Antiquities</td>\n",
       "      <td>8 December 2021</td>\n",
       "      <td>London</td>\n",
       "      <td>GBP</td>\n",
       "      <td>6</td>\n",
       "      <td>AN ETRUSCAN BRONZE HANDLE FRAGMENT</td>\n",
       "      <td>CIRCA 5TH-4TH CENTURY B.C.</td>\n",
       "      <td>8 3⁄8 in. (21.3 cm.) high</td>\n",
       "    </tr>\n",
       "    <tr>\n",
       "      <th>...</th>\n",
       "      <td>...</td>\n",
       "      <td>...</td>\n",
       "      <td>...</td>\n",
       "      <td>...</td>\n",
       "      <td>...</td>\n",
       "      <td>...</td>\n",
       "      <td>...</td>\n",
       "      <td>...</td>\n",
       "    </tr>\n",
       "    <tr>\n",
       "      <th>10352</th>\n",
       "      <td>Antiquities Including the Plesch Collection of...</td>\n",
       "      <td>28 April 2009</td>\n",
       "      <td>London, South Kensington</td>\n",
       "      <td>GBP</td>\n",
       "      <td>243</td>\n",
       "      <td>A GREEK STYLE POTTERY MULE HEAD RHYTON</td>\n",
       "      <td>AFTER THE ANTIQUE</td>\n",
       "      <td>8¼ in. (21 cm.) and 12 in. (30.5 cm.) high res...</td>\n",
       "    </tr>\n",
       "    <tr>\n",
       "      <th>10353</th>\n",
       "      <td>Antiquities Including the Plesch Collection of...</td>\n",
       "      <td>28 April 2009</td>\n",
       "      <td>London, South Kensington</td>\n",
       "      <td>GBP</td>\n",
       "      <td>244</td>\n",
       "      <td>A LARGE ATTIC BLACK GLAZED POTTERY HYDRIA</td>\n",
       "      <td>4TH CENTURY B.C.</td>\n",
       "      <td>24 in. (61 cm.) and 7½ in. (19 cm.) high respe...</td>\n",
       "    </tr>\n",
       "    <tr>\n",
       "      <th>10354</th>\n",
       "      <td>Antiquities Including the Plesch Collection of...</td>\n",
       "      <td>28 April 2009</td>\n",
       "      <td>London, South Kensington</td>\n",
       "      <td>GBP</td>\n",
       "      <td>245</td>\n",
       "      <td>AN APULIAN RED-FIGURE FISH PLATE, ATTRIBUTED T...</td>\n",
       "      <td>CIRCA 330 B.C.</td>\n",
       "      <td>9 in. (23 cm.) diam.</td>\n",
       "    </tr>\n",
       "    <tr>\n",
       "      <th>10355</th>\n",
       "      <td>Antiquities Including the Plesch Collection of...</td>\n",
       "      <td>28 April 2009</td>\n",
       "      <td>London, South Kensington</td>\n",
       "      <td>GBP</td>\n",
       "      <td>246</td>\n",
       "      <td>AN APULIAN RED-FIGURE KANTHAROS, ATTRIBUTED TO...</td>\n",
       "      <td>CIRCA 4TH CENTURY B.C.</td>\n",
       "      <td>13 in. (33 cm.) high</td>\n",
       "    </tr>\n",
       "    <tr>\n",
       "      <th>10356</th>\n",
       "      <td>Antiquities Including the Plesch Collection of...</td>\n",
       "      <td>28 April 2009</td>\n",
       "      <td>London, South Kensington</td>\n",
       "      <td>GBP</td>\n",
       "      <td>248</td>\n",
       "      <td>A GRAECO-ROMAN ARCHAISTIC MARBLE HERM HEAD OF ...</td>\n",
       "      <td>CIRCA 1ST CENTURY B.C., AFTER A GREEK ORIGINAL...</td>\n",
       "      <td>8 in. (20.5 cm.) high</td>\n",
       "    </tr>\n",
       "  </tbody>\n",
       "</table>\n",
       "<p>10357 rows × 8 columns</p>\n",
       "</div>"
      ],
      "text/plain": [
       "                                                category             date  \\\n",
       "0                                            Antiquities  8 December 2021   \n",
       "1                                            Antiquities  8 December 2021   \n",
       "2                                            Antiquities  8 December 2021   \n",
       "3                                            Antiquities  8 December 2021   \n",
       "4                                            Antiquities  8 December 2021   \n",
       "...                                                  ...              ...   \n",
       "10352  Antiquities Including the Plesch Collection of...    28 April 2009   \n",
       "10353  Antiquities Including the Plesch Collection of...    28 April 2009   \n",
       "10354  Antiquities Including the Plesch Collection of...    28 April 2009   \n",
       "10355  Antiquities Including the Plesch Collection of...    28 April 2009   \n",
       "10356  Antiquities Including the Plesch Collection of...    28 April 2009   \n",
       "\n",
       "                       location original_currency  lot  \\\n",
       "0                        London               GBP    1   \n",
       "1                        London               GBP    2   \n",
       "2                        London               GBP    3   \n",
       "3                        London               GBP    5   \n",
       "4                        London               GBP    6   \n",
       "...                         ...               ...  ...   \n",
       "10352  London, South Kensington               GBP  243   \n",
       "10353  London, South Kensington               GBP  244   \n",
       "10354  London, South Kensington               GBP  245   \n",
       "10355  London, South Kensington               GBP  246   \n",
       "10356  London, South Kensington               GBP  248   \n",
       "\n",
       "                                                   title  \\\n",
       "0         AN ATTIC BLACK-FIGURED TREFOIL-LIPPED OINOCHOE   \n",
       "1                     A GREEK MEGARIAN WARE POTTERY BOWL   \n",
       "2                         AN ATTIC WHITE-GROUND LEKYTHOS   \n",
       "3                                SEVEN GREEK TERRACOTTAS   \n",
       "4                     AN ETRUSCAN BRONZE HANDLE FRAGMENT   \n",
       "...                                                  ...   \n",
       "10352             A GREEK STYLE POTTERY MULE HEAD RHYTON   \n",
       "10353          A LARGE ATTIC BLACK GLAZED POTTERY HYDRIA   \n",
       "10354  AN APULIAN RED-FIGURE FISH PLATE, ATTRIBUTED T...   \n",
       "10355  AN APULIAN RED-FIGURE KANTHAROS, ATTRIBUTED TO...   \n",
       "10356  A GRAECO-ROMAN ARCHAISTIC MARBLE HERM HEAD OF ...   \n",
       "\n",
       "                                                   descr  \\\n",
       "0      ATTRIBUTED TO THE GELA PAINTER, CIRCA 510-490 ...   \n",
       "1             HELLENISTIC PERIOD, CIRCA 2ND CENTURY B.C.   \n",
       "2                             CIRCA MID 5TH CENTURY B.C.   \n",
       "3         HELLENISTIC PERIOD, CIRCA 3RD-2ND CENTURY B.C.   \n",
       "4                             CIRCA 5TH-4TH CENTURY B.C.   \n",
       "...                                                  ...   \n",
       "10352                                  AFTER THE ANTIQUE   \n",
       "10353                                   4TH CENTURY B.C.   \n",
       "10354                                     CIRCA 330 B.C.   \n",
       "10355                             CIRCA 4TH CENTURY B.C.   \n",
       "10356  CIRCA 1ST CENTURY B.C., AFTER A GREEK ORIGINAL...   \n",
       "\n",
       "                                                measures  \n",
       "0                              6 3⁄4 in. (17.2 cm.) high  \n",
       "1                          5 5⁄8 in. (14.2 cm.) diameter  \n",
       "2                             11 1⁄2 in. (29.2 cm.) high  \n",
       "3                           4 3⁄8 in. (11 cm.) long max.  \n",
       "4                              8 3⁄8 in. (21.3 cm.) high  \n",
       "...                                                  ...  \n",
       "10352  8¼ in. (21 cm.) and 12 in. (30.5 cm.) high res...  \n",
       "10353  24 in. (61 cm.) and 7½ in. (19 cm.) high respe...  \n",
       "10354                              9 in. (23 cm.) diam.   \n",
       "10355                              13 in. (33 cm.) high   \n",
       "10356                             8 in. (20.5 cm.) high   \n",
       "\n",
       "[10357 rows x 8 columns]"
      ]
     },
     "execution_count": 50,
     "metadata": {},
     "output_type": "execute_result"
    }
   ],
   "source": [
    "#select categorical columns\n",
    "cat=df.select_dtypes(include='object')\n",
    "cat"
   ]
  },
  {
   "cell_type": "code",
   "execution_count": 51,
   "id": "339e5cdd",
   "metadata": {},
   "outputs": [],
   "source": [
    "#sns.displot(df['realized'])"
   ]
  },
  {
   "cell_type": "code",
   "execution_count": 52,
   "id": "265fdd4a",
   "metadata": {},
   "outputs": [
    {
     "data": {
      "text/plain": [
       "count    1.035700e+04\n",
       "mean     5.441148e+04\n",
       "std      6.371737e+05\n",
       "min      3.600000e+01\n",
       "25%      3.158000e+03\n",
       "50%      7.500000e+03\n",
       "75%      2.375000e+04\n",
       "max      4.118844e+07\n",
       "Name: realized, dtype: float64"
      ]
     },
     "execution_count": 52,
     "metadata": {},
     "output_type": "execute_result"
    }
   ],
   "source": [
    "df['realized'].describe()"
   ]
  },
  {
   "cell_type": "code",
   "execution_count": 53,
   "id": "1d0bfa10",
   "metadata": {},
   "outputs": [
    {
     "data": {
      "text/plain": [
       "Index(['index_id', 'category', 'auction_id', 'date', 'location',\n",
       "       'original_currency', 'total_sale', 'nooflots', 'lot', 'title', 'descr',\n",
       "       'measures', 'min_estimated', 'max_estimated', 'realized'],\n",
       "      dtype='object')"
      ]
     },
     "execution_count": 53,
     "metadata": {},
     "output_type": "execute_result"
    }
   ],
   "source": [
    "df.columns"
   ]
  },
  {
   "cell_type": "code",
   "execution_count": 54,
   "id": "76891d2e",
   "metadata": {},
   "outputs": [
    {
     "data": {
      "text/plain": [
       "<AxesSubplot:>"
      ]
     },
     "execution_count": 54,
     "metadata": {},
     "output_type": "execute_result"
    },
    {
     "data": {
      "image/png": "[encoded data removed]",
      "text/plain": [
       "<Figure size 720x432 with 1 Axes>"
      ]
     },
     "metadata": {
      "needs_background": "light"
     },
     "output_type": "display_data"
    }
   ],
   "source": [
    "# Set figure size with matplotlib\n",
    "plt.figure(figsize=(10,6))\n",
    "\n",
    "# New boxplot using stats_df\n",
    "sns.boxplot(data=df)"
   ]
  },
  {
   "cell_type": "code",
   "execution_count": 55,
   "id": "9ffe7816",
   "metadata": {},
   "outputs": [
    {
     "data": {
      "image/png": "[encoded data removed]",
      "text/plain": [
       "<Figure size 360x360 with 1 Axes>"
      ]
     },
     "metadata": {
      "needs_background": "light"
     },
     "output_type": "display_data"
    }
   ],
   "source": [
    "# new scatter plot with sensible axes limits\n",
    "# Plot using Seaborn\n",
    "sns.lmplot(x='realized', y='total_sale', data=df,\n",
    "           fit_reg=False)\n",
    " \n",
    "# Tweak using Matplotlib\n",
    "plt.ylim(0, None)\n",
    "plt.xlim(0, None)\n",
    "\n",
    "plt.show()\n"
   ]
  },
  {
   "cell_type": "code",
   "execution_count": 56,
   "id": "a58f9893",
   "metadata": {},
   "outputs": [
    {
     "data": {
      "image/png": "[encoded data removed]",
      "text/plain": [
       "<Figure size 432x288 with 1 Axes>"
      ]
     },
     "metadata": {
      "needs_background": "light"
     },
     "output_type": "display_data"
    }
   ],
   "source": [
    "ax = df['location'].value_counts().plot(kind='bar',\n",
    "                                    title=\"Number of sales by location\")"
   ]
  },
  {
   "cell_type": "markdown",
   "id": "4d9dc515",
   "metadata": {},
   "source": [
    "## Correlation and Heatmap"
   ]
  },
  {
   "cell_type": "code",
   "execution_count": 57,
   "id": "3a009ac2",
   "metadata": {},
   "outputs": [
    {
     "data": {
      "text/html": [
       "<div>\n",
       "<style scoped>\n",
       "    .dataframe tbody tr th:only-of-type {\n",
       "        vertical-align: middle;\n",
       "    }\n",
       "\n",
       "    .dataframe tbody tr th {\n",
       "        vertical-align: top;\n",
       "    }\n",
       "\n",
       "    .dataframe thead th {\n",
       "        text-align: right;\n",
       "    }\n",
       "</style>\n",
       "<table border=\"1\" class=\"dataframe\">\n",
       "  <thead>\n",
       "    <tr style=\"text-align: right;\">\n",
       "      <th></th>\n",
       "      <th>index_id</th>\n",
       "      <th>auction_id</th>\n",
       "      <th>total_sale</th>\n",
       "      <th>nooflots</th>\n",
       "      <th>min_estimated</th>\n",
       "      <th>max_estimated</th>\n",
       "      <th>realized</th>\n",
       "    </tr>\n",
       "  </thead>\n",
       "  <tbody>\n",
       "    <tr>\n",
       "      <th>index_id</th>\n",
       "      <td>1.000000</td>\n",
       "      <td>-0.789450</td>\n",
       "      <td>-0.044685</td>\n",
       "      <td>0.462892</td>\n",
       "      <td>-0.038368</td>\n",
       "      <td>-0.036067</td>\n",
       "      <td>-0.034132</td>\n",
       "    </tr>\n",
       "    <tr>\n",
       "      <th>auction_id</th>\n",
       "      <td>-0.789450</td>\n",
       "      <td>1.000000</td>\n",
       "      <td>-0.019332</td>\n",
       "      <td>-0.313414</td>\n",
       "      <td>0.016949</td>\n",
       "      <td>0.014970</td>\n",
       "      <td>0.019622</td>\n",
       "    </tr>\n",
       "    <tr>\n",
       "      <th>total_sale</th>\n",
       "      <td>-0.044685</td>\n",
       "      <td>-0.019332</td>\n",
       "      <td>1.000000</td>\n",
       "      <td>-0.134907</td>\n",
       "      <td>0.162992</td>\n",
       "      <td>0.159143</td>\n",
       "      <td>0.155354</td>\n",
       "    </tr>\n",
       "    <tr>\n",
       "      <th>nooflots</th>\n",
       "      <td>0.462892</td>\n",
       "      <td>-0.313414</td>\n",
       "      <td>-0.134907</td>\n",
       "      <td>1.000000</td>\n",
       "      <td>-0.048330</td>\n",
       "      <td>-0.046058</td>\n",
       "      <td>-0.040898</td>\n",
       "    </tr>\n",
       "    <tr>\n",
       "      <th>min_estimated</th>\n",
       "      <td>-0.038368</td>\n",
       "      <td>0.016949</td>\n",
       "      <td>0.162992</td>\n",
       "      <td>-0.048330</td>\n",
       "      <td>1.000000</td>\n",
       "      <td>0.998434</td>\n",
       "      <td>0.927256</td>\n",
       "    </tr>\n",
       "    <tr>\n",
       "      <th>max_estimated</th>\n",
       "      <td>-0.036067</td>\n",
       "      <td>0.014970</td>\n",
       "      <td>0.159143</td>\n",
       "      <td>-0.046058</td>\n",
       "      <td>0.998434</td>\n",
       "      <td>1.000000</td>\n",
       "      <td>0.917577</td>\n",
       "    </tr>\n",
       "    <tr>\n",
       "      <th>realized</th>\n",
       "      <td>-0.034132</td>\n",
       "      <td>0.019622</td>\n",
       "      <td>0.155354</td>\n",
       "      <td>-0.040898</td>\n",
       "      <td>0.927256</td>\n",
       "      <td>0.917577</td>\n",
       "      <td>1.000000</td>\n",
       "    </tr>\n",
       "  </tbody>\n",
       "</table>\n",
       "</div>"
      ],
      "text/plain": [
       "               index_id  auction_id  total_sale  nooflots  min_estimated  \\\n",
       "index_id       1.000000   -0.789450   -0.044685  0.462892      -0.038368   \n",
       "auction_id    -0.789450    1.000000   -0.019332 -0.313414       0.016949   \n",
       "total_sale    -0.044685   -0.019332    1.000000 -0.134907       0.162992   \n",
       "nooflots       0.462892   -0.313414   -0.134907  1.000000      -0.048330   \n",
       "min_estimated -0.038368    0.016949    0.162992 -0.048330       1.000000   \n",
       "max_estimated -0.036067    0.014970    0.159143 -0.046058       0.998434   \n",
       "realized      -0.034132    0.019622    0.155354 -0.040898       0.927256   \n",
       "\n",
       "               max_estimated  realized  \n",
       "index_id           -0.036067 -0.034132  \n",
       "auction_id          0.014970  0.019622  \n",
       "total_sale          0.159143  0.155354  \n",
       "nooflots           -0.046058 -0.040898  \n",
       "min_estimated       0.998434  0.927256  \n",
       "max_estimated       1.000000  0.917577  \n",
       "realized            0.917577  1.000000  "
      ]
     },
     "execution_count": 57,
     "metadata": {},
     "output_type": "execute_result"
    }
   ],
   "source": [
    "# check dataset correlation\n",
    "df.corr()"
   ]
  },
  {
   "cell_type": "code",
   "execution_count": 58,
   "id": "a56fc6da",
   "metadata": {},
   "outputs": [
    {
     "data": {
      "text/plain": [
       "<AxesSubplot:>"
      ]
     },
     "execution_count": 58,
     "metadata": {},
     "output_type": "execute_result"
    },
    {
     "data": {
      "image/png": "[encoded data removed]",
      "text/plain": [
       "<Figure size 1440x1296 with 2 Axes>"
      ]
     },
     "metadata": {
      "needs_background": "light"
     },
     "output_type": "display_data"
    }
   ],
   "source": [
    "# Calculate correlations\n",
    "corr = df.corr()\n",
    " \n",
    "# Heatmap\n",
    "plt.figure(figsize=(20,18))\n",
    "sns.heatmap(corr,\n",
    "           center=0,\n",
    "           annot=True)\n"
   ]
  },
  {
   "cell_type": "code",
   "execution_count": 59,
   "id": "b6177a67",
   "metadata": {},
   "outputs": [
    {
     "data": {
      "image/png": "[encoded data removed]",
      "text/plain": [
       "<Figure size 1440x1296 with 2 Axes>"
      ]
     },
     "metadata": {
      "needs_background": "light"
     },
     "output_type": "display_data"
    }
   ],
   "source": [
    "mask=np.zeros_like(df.corr())\n",
    "mask[np.triu_indices_from(mask)]=True\n",
    "\n",
    "fig, ax=plt.subplots(figsize=(20, 18))\n",
    "ax=sns.heatmap(df.corr(), mask=mask, annot=True,)\n",
    "plt.show()"
   ]
  },
  {
   "cell_type": "code",
   "execution_count": 60,
   "id": "110845dd",
   "metadata": {},
   "outputs": [
    {
     "data": {
      "text/plain": [
       "Text(0, 0.5, 'min_estimated')"
      ]
     },
     "execution_count": 60,
     "metadata": {},
     "output_type": "execute_result"
    },
    {
     "data": {
      "image/png": "[encoded data removed]",
      "text/plain": [
       "<Figure size 432x288 with 1 Axes>"
      ]
     },
     "metadata": {
      "needs_background": "light"
     },
     "output_type": "display_data"
    }
   ],
   "source": [
    "# correlation coefficient price x sqft_above\n",
    "cap_avg = df.groupby(['total_sale']).mean()\n",
    "plt.scatter(cap_avg['realized'],cap_avg['min_estimated'])\n",
    "plt.xlabel('realized')\n",
    "plt.ylabel('min_estimated')"
   ]
  },
  {
   "cell_type": "code",
   "execution_count": 61,
   "id": "85174030",
   "metadata": {},
   "outputs": [
    {
     "name": "stdout",
     "output_type": "stream",
     "text": [
      "The correlation coefficient between realized and min_estimated is 0.9727\n"
     ]
    }
   ],
   "source": [
    "corr=round(st.pearsonr(cap_avg['realized'],cap_avg['min_estimated'])[0],4)\n",
    "print(f\"The correlation coefficient between realized and min_estimated is {corr}\")"
   ]
  },
  {
   "cell_type": "code",
   "execution_count": 62,
   "id": "9454bfd9",
   "metadata": {},
   "outputs": [
    {
     "data": {
      "text/plain": [
       "LinregressResult(slope=0.5042448814314909, intercept=-3226.8748571655815, rvalue=0.972740299473903, pvalue=9.949253542273976e-56, stderr=0.013038589890091812, intercept_stderr=3615.1381808400274)"
      ]
     },
     "execution_count": 62,
     "metadata": {},
     "output_type": "execute_result"
    }
   ],
   "source": [
    "model=st.linregress(cap_avg['realized'],cap_avg['min_estimated'])\n",
    "model"
   ]
  },
  {
   "cell_type": "code",
   "execution_count": 63,
   "id": "eca91a85",
   "metadata": {},
   "outputs": [],
   "source": [
    "slope=0.4885115294181297\n",
    "intercept=(-1585.5435758839667)"
   ]
  },
  {
   "cell_type": "code",
   "execution_count": 64,
   "id": "7a7cb6e2",
   "metadata": {},
   "outputs": [
    {
     "data": {
      "image/png": "[encoded data removed]",
      "text/plain": [
       "<Figure size 432x288 with 1 Axes>"
      ]
     },
     "metadata": {
      "needs_background": "light"
     },
     "output_type": "display_data"
    }
   ],
   "source": [
    "y_values = cap_avg['realized']*slope+intercept\n",
    "\n",
    "plt.scatter(cap_avg['realized'],cap_avg['min_estimated'])\n",
    "plt.plot(cap_avg['realized'],y_values,color=\"red\")\n",
    "\n",
    "plt.xlabel('realized')\n",
    "plt.ylabel('min_estimated')\n",
    "\n",
    "plt.show()"
   ]
  },
  {
   "cell_type": "code",
   "execution_count": 65,
   "id": "ef0e2a49",
   "metadata": {},
   "outputs": [
    {
     "name": "stdout",
     "output_type": "stream",
     "text": [
      "The correlation coefficient between realized and max_estimated is 0.971\n"
     ]
    }
   ],
   "source": [
    "corr=round(st.pearsonr(cap_avg['realized'],cap_avg['max_estimated'])[0],4)\n",
    "print(f\"The correlation coefficient between realized and max_estimated is {corr}\")"
   ]
  },
  {
   "cell_type": "code",
   "execution_count": 66,
   "id": "d37ec0c9",
   "metadata": {},
   "outputs": [
    {
     "data": {
      "text/plain": [
       "LinregressResult(slope=0.8085516607771093, intercept=-7986.360529306476, rvalue=0.9710422254654605, pvalue=1.2531720994162676e-54, stderr=0.021576984543424722, intercept_stderr=5982.531953827759)"
      ]
     },
     "execution_count": 66,
     "metadata": {},
     "output_type": "execute_result"
    }
   ],
   "source": [
    "model=st.linregress(cap_avg['realized'],cap_avg['max_estimated'])\n",
    "model"
   ]
  },
  {
   "cell_type": "code",
   "execution_count": 67,
   "id": "a31eb22b",
   "metadata": {},
   "outputs": [],
   "source": [
    "slope=0.7820866176136193\n",
    "intercept=(-4771.014816350682)"
   ]
  },
  {
   "cell_type": "code",
   "execution_count": 68,
   "id": "2e83b585",
   "metadata": {},
   "outputs": [
    {
     "data": {
      "image/png": "[encoded data removed]",
      "text/plain": [
       "<Figure size 432x288 with 1 Axes>"
      ]
     },
     "metadata": {
      "needs_background": "light"
     },
     "output_type": "display_data"
    }
   ],
   "source": [
    "y_values = cap_avg['realized']*slope+intercept\n",
    "\n",
    "plt.scatter(cap_avg['realized'],cap_avg['max_estimated'])\n",
    "plt.plot(cap_avg['realized'],y_values,color=\"red\")\n",
    "\n",
    "plt.xlabel('realized')\n",
    "plt.ylabel('max_estimated')\n",
    "\n",
    "plt.show()"
   ]
  },
  {
   "cell_type": "markdown",
   "id": "d5676635",
   "metadata": {},
   "source": [
    "## Outliers"
   ]
  },
  {
   "cell_type": "code",
   "execution_count": 69,
   "id": "a561b641",
   "metadata": {},
   "outputs": [
    {
     "data": {
      "image/png": "[encoded data removed]",
      "text/plain": [
       "<Figure size 720x288 with 2 Axes>"
      ]
     },
     "metadata": {
      "needs_background": "light"
     },
     "output_type": "display_data"
    },
    {
     "data": {
      "image/png": "[encoded data removed]",
      "text/plain": [
       "<Figure size 720x288 with 2 Axes>"
      ]
     },
     "metadata": {
      "needs_background": "light"
     },
     "output_type": "display_data"
    },
    {
     "data": {
      "image/png": "[encoded data removed]",
      "text/plain": [
       "<Figure size 720x288 with 2 Axes>"
      ]
     },
     "metadata": {
      "needs_background": "light"
     },
     "output_type": "display_data"
    }
   ],
   "source": [
    "# let's make boxplots to visualise outliers in the continuous variables \n",
    "# and histograms to get an idea of the distribution\n",
    "\n",
    "for var in continuous:\n",
    "    plt.figure(figsize=(10,4))\n",
    "    plt.subplot(1, 2, 1)\n",
    "    fig = sns.boxplot(y=df[var])\n",
    "    fig.set_title('')\n",
    "    fig.set_ylabel(var)\n",
    "    \n",
    "    plt.subplot(1, 2, 2)\n",
    "    fig = sns.distplot(df[var].dropna())\n",
    "    fig.set_ylabel('No of pieces')\n",
    "    fig.set_xlabel(var)\n",
    "\n",
    "    plt.show()"
   ]
  },
  {
   "cell_type": "code",
   "execution_count": 70,
   "id": "d407eafe",
   "metadata": {},
   "outputs": [
    {
     "data": {
      "image/png": "[encoded data removed]",
      "text/plain": [
       "<Figure size 720x288 with 2 Axes>"
      ]
     },
     "metadata": {
      "needs_background": "light"
     },
     "output_type": "display_data"
    }
   ],
   "source": [
    "# let's look at the distribution of the target variable\n",
    "\n",
    "plt.figure(figsize=(10,4))\n",
    "plt.subplot(1, 2, 1)\n",
    "fig = sns.boxplot(y=df['realized'])\n",
    "fig.set_title('')\n",
    "fig.set_ylabel(var)\n",
    "\n",
    "plt.subplot(1, 2, 2)\n",
    "fig = sns.distplot(df['realized'].dropna())#.hist(bins=20)\n",
    "fig.set_ylabel('')\n",
    "fig.set_xlabel(var)\n",
    "\n",
    "plt.show()"
   ]
  },
  {
   "cell_type": "markdown",
   "id": "4601dca0",
   "metadata": {},
   "source": [
    "the target variable (realized price) is skewed"
   ]
  },
  {
   "cell_type": "code",
   "execution_count": 71,
   "id": "7df3e3fb",
   "metadata": {},
   "outputs": [
    {
     "name": "stdout",
     "output_type": "stream",
     "text": [
      "category  contains  31  labels\n",
      "date  contains  70  labels\n",
      "location  contains  6  labels\n",
      "original_currency  contains  3  labels\n",
      "lot  contains  1116  labels\n",
      "title  contains  7650  labels\n",
      "descr  contains  4137  labels\n",
      "measures  contains  6883  labels\n"
     ]
    }
   ],
   "source": [
    "for var in categorical:\n",
    "    print(var, ' contains ', len(df[var].unique()), ' labels')"
   ]
  },
  {
   "cell_type": "markdown",
   "id": "11c187ab",
   "metadata": {},
   "source": [
    "## Modeling"
   ]
  },
  {
   "cell_type": "code",
   "execution_count": 72,
   "id": "9c6a6994",
   "metadata": {},
   "outputs": [
    {
     "data": {
      "text/html": [
       "<div>\n",
       "<style scoped>\n",
       "    .dataframe tbody tr th:only-of-type {\n",
       "        vertical-align: middle;\n",
       "    }\n",
       "\n",
       "    .dataframe tbody tr th {\n",
       "        vertical-align: top;\n",
       "    }\n",
       "\n",
       "    .dataframe thead th {\n",
       "        text-align: right;\n",
       "    }\n",
       "</style>\n",
       "<table border=\"1\" class=\"dataframe\">\n",
       "  <thead>\n",
       "    <tr style=\"text-align: right;\">\n",
       "      <th></th>\n",
       "      <th>index_id</th>\n",
       "      <th>auction_id</th>\n",
       "      <th>total_sale</th>\n",
       "      <th>nooflots</th>\n",
       "      <th>min_estimated</th>\n",
       "      <th>max_estimated</th>\n",
       "      <th>realized</th>\n",
       "    </tr>\n",
       "  </thead>\n",
       "  <tbody>\n",
       "    <tr>\n",
       "      <th>0</th>\n",
       "      <td>0</td>\n",
       "      <td>19876</td>\n",
       "      <td>6407750</td>\n",
       "      <td>152</td>\n",
       "      <td>6000</td>\n",
       "      <td>8000</td>\n",
       "      <td>8125</td>\n",
       "    </tr>\n",
       "    <tr>\n",
       "      <th>1</th>\n",
       "      <td>1</td>\n",
       "      <td>19876</td>\n",
       "      <td>6407750</td>\n",
       "      <td>152</td>\n",
       "      <td>400</td>\n",
       "      <td>600</td>\n",
       "      <td>1500</td>\n",
       "    </tr>\n",
       "    <tr>\n",
       "      <th>2</th>\n",
       "      <td>2</td>\n",
       "      <td>19876</td>\n",
       "      <td>6407750</td>\n",
       "      <td>152</td>\n",
       "      <td>8000</td>\n",
       "      <td>12000</td>\n",
       "      <td>18750</td>\n",
       "    </tr>\n",
       "    <tr>\n",
       "      <th>3</th>\n",
       "      <td>3</td>\n",
       "      <td>19876</td>\n",
       "      <td>6407750</td>\n",
       "      <td>152</td>\n",
       "      <td>2500</td>\n",
       "      <td>3500</td>\n",
       "      <td>4375</td>\n",
       "    </tr>\n",
       "    <tr>\n",
       "      <th>4</th>\n",
       "      <td>4</td>\n",
       "      <td>19876</td>\n",
       "      <td>6407750</td>\n",
       "      <td>152</td>\n",
       "      <td>1500</td>\n",
       "      <td>2500</td>\n",
       "      <td>2500</td>\n",
       "    </tr>\n",
       "    <tr>\n",
       "      <th>...</th>\n",
       "      <td>...</td>\n",
       "      <td>...</td>\n",
       "      <td>...</td>\n",
       "      <td>...</td>\n",
       "      <td>...</td>\n",
       "      <td>...</td>\n",
       "      <td>...</td>\n",
       "    </tr>\n",
       "    <tr>\n",
       "      <th>10352</th>\n",
       "      <td>10374</td>\n",
       "      <td>5951</td>\n",
       "      <td>1036687</td>\n",
       "      <td>200</td>\n",
       "      <td>600</td>\n",
       "      <td>900</td>\n",
       "      <td>2000</td>\n",
       "    </tr>\n",
       "    <tr>\n",
       "      <th>10353</th>\n",
       "      <td>10375</td>\n",
       "      <td>5951</td>\n",
       "      <td>1036687</td>\n",
       "      <td>200</td>\n",
       "      <td>3000</td>\n",
       "      <td>5000</td>\n",
       "      <td>6875</td>\n",
       "    </tr>\n",
       "    <tr>\n",
       "      <th>10354</th>\n",
       "      <td>10376</td>\n",
       "      <td>5951</td>\n",
       "      <td>1036687</td>\n",
       "      <td>200</td>\n",
       "      <td>1500</td>\n",
       "      <td>2500</td>\n",
       "      <td>3250</td>\n",
       "    </tr>\n",
       "    <tr>\n",
       "      <th>10355</th>\n",
       "      <td>10377</td>\n",
       "      <td>5951</td>\n",
       "      <td>1036687</td>\n",
       "      <td>200</td>\n",
       "      <td>2000</td>\n",
       "      <td>2500</td>\n",
       "      <td>4750</td>\n",
       "    </tr>\n",
       "    <tr>\n",
       "      <th>10356</th>\n",
       "      <td>10378</td>\n",
       "      <td>5951</td>\n",
       "      <td>1036687</td>\n",
       "      <td>200</td>\n",
       "      <td>9000</td>\n",
       "      <td>15000</td>\n",
       "      <td>15625</td>\n",
       "    </tr>\n",
       "  </tbody>\n",
       "</table>\n",
       "<p>10357 rows × 7 columns</p>\n",
       "</div>"
      ],
      "text/plain": [
       "       index_id  auction_id  total_sale  nooflots  min_estimated  \\\n",
       "0             0       19876     6407750       152           6000   \n",
       "1             1       19876     6407750       152            400   \n",
       "2             2       19876     6407750       152           8000   \n",
       "3             3       19876     6407750       152           2500   \n",
       "4             4       19876     6407750       152           1500   \n",
       "...         ...         ...         ...       ...            ...   \n",
       "10352     10374        5951     1036687       200            600   \n",
       "10353     10375        5951     1036687       200           3000   \n",
       "10354     10376        5951     1036687       200           1500   \n",
       "10355     10377        5951     1036687       200           2000   \n",
       "10356     10378        5951     1036687       200           9000   \n",
       "\n",
       "       max_estimated  realized  \n",
       "0               8000      8125  \n",
       "1                600      1500  \n",
       "2              12000     18750  \n",
       "3               3500      4375  \n",
       "4               2500      2500  \n",
       "...              ...       ...  \n",
       "10352            900      2000  \n",
       "10353           5000      6875  \n",
       "10354           2500      3250  \n",
       "10355           2500      4750  \n",
       "10356          15000     15625  \n",
       "\n",
       "[10357 rows x 7 columns]"
      ]
     },
     "execution_count": 72,
     "metadata": {},
     "output_type": "execute_result"
    }
   ],
   "source": [
    "num"
   ]
  },
  {
   "cell_type": "code",
   "execution_count": 73,
   "id": "36b258a6",
   "metadata": {},
   "outputs": [],
   "source": [
    "# define the target variable ( y: realized) and the features (x)\n",
    "X=num.drop('realized', axis=1)\n",
    "y=df.realized"
   ]
  },
  {
   "cell_type": "code",
   "execution_count": 74,
   "id": "9bcd1581",
   "metadata": {},
   "outputs": [
    {
     "data": {
      "text/plain": [
       "index_id         int64\n",
       "auction_id       int64\n",
       "total_sale       int64\n",
       "nooflots         int64\n",
       "min_estimated    int64\n",
       "max_estimated    int64\n",
       "dtype: object"
      ]
     },
     "execution_count": 74,
     "metadata": {},
     "output_type": "execute_result"
    }
   ],
   "source": [
    "X.dtypes"
   ]
  },
  {
   "cell_type": "code",
   "execution_count": 75,
   "id": "a381e828",
   "metadata": {},
   "outputs": [
    {
     "name": "stdout",
     "output_type": "stream",
     "text": [
      "X shape: (10357, 6)\n",
      "Y shape: (10357,)\n"
     ]
    }
   ],
   "source": [
    "#check the shapes of both X, Y \n",
    "print('X shape:', X.shape)\n",
    "print('Y shape:', y.shape)"
   ]
  },
  {
   "cell_type": "markdown",
   "id": "8681ec4a",
   "metadata": {},
   "source": [
    "## Train and test split"
   ]
  },
  {
   "cell_type": "code",
   "execution_count": 76,
   "id": "14972c0a",
   "metadata": {},
   "outputs": [],
   "source": [
    "from sklearn.model_selection import train_test_split \n",
    "\n",
    "X_train, X_test, y_train, y_test=train_test_split(X, y, test_size=.25, random_state = 40) # (60% train, 40% test)"
   ]
  },
  {
   "cell_type": "code",
   "execution_count": 77,
   "id": "5de8f020",
   "metadata": {},
   "outputs": [
    {
     "name": "stdout",
     "output_type": "stream",
     "text": [
      "                            OLS Regression Results                            \n",
      "==============================================================================\n",
      "Dep. Variable:               realized   R-squared:                       0.932\n",
      "Model:                            OLS   Adj. R-squared:                  0.932\n",
      "Method:                 Least Squares   F-statistic:                 1.786e+04\n",
      "Date:                Thu, 16 Dec 2021   Prob (F-statistic):               0.00\n",
      "Time:                        12:28:49   Log-Likelihood:            -1.0489e+05\n",
      "No. Observations:                7767   AIC:                         2.098e+05\n",
      "Df Residuals:                    7760   BIC:                         2.098e+05\n",
      "Df Model:                           6                                         \n",
      "Covariance Type:            nonrobust                                         \n",
      "=================================================================================\n",
      "                    coef    std err          t      P>|t|      [0.025      0.975]\n",
      "---------------------------------------------------------------------------------\n",
      "const         -2.442e+04   9674.664     -2.524      0.012   -4.34e+04   -5453.482\n",
      "index_id          1.9115      1.186      1.611      0.107      -0.414       4.237\n",
      "auction_id        0.7071      0.530      1.335      0.182      -0.331       1.745\n",
      "total_sale       -0.0014      0.000     -5.266      0.000      -0.002      -0.001\n",
      "nooflots         16.1161      8.000      2.015      0.044       0.435      31.797\n",
      "min_estimated     9.9092      0.123     80.851      0.000       9.669      10.149\n",
      "max_estimated    -4.8102      0.076    -63.015      0.000      -4.960      -4.661\n",
      "==============================================================================\n",
      "Omnibus:                     8912.503   Durbin-Watson:                   1.998\n",
      "Prob(Omnibus):                  0.000   Jarque-Bera (JB):        128105732.648\n",
      "Skew:                          -4.408   Prob(JB):                         0.00\n",
      "Kurtosis:                     632.101   Cond. No.                     4.85e+07\n",
      "==============================================================================\n",
      "\n",
      "Notes:\n",
      "[1] Standard Errors assume that the covariance matrix of the errors is correctly specified.\n",
      "[2] The condition number is large, 4.85e+07. This might indicate that there are\n",
      "strong multicollinearity or other numerical problems.\n"
     ]
    }
   ],
   "source": [
    "import warnings\n",
    "warnings.simplefilter('ignore')\n",
    "\n",
    "import statsmodels.api as sm\n",
    "from statsmodels.formula.api import ols #print OLS Regression Results\n",
    "\n",
    "X_train_ols=sm.add_constant(X_train)\n",
    "model=sm.OLS(y_train,X_train_ols).fit() \n",
    "\n",
    "print(model.summary())"
   ]
  },
  {
   "cell_type": "markdown",
   "id": "b1cb7b9a",
   "metadata": {},
   "source": [
    "### Linear Regression"
   ]
  },
  {
   "cell_type": "code",
   "execution_count": 78,
   "id": "b94bd175",
   "metadata": {},
   "outputs": [],
   "source": [
    "# create a linear regression variable\n",
    "lm = LinearRegression()"
   ]
  },
  {
   "cell_type": "code",
   "execution_count": 79,
   "id": "f7ba597f",
   "metadata": {},
   "outputs": [
    {
     "data": {
      "text/plain": [
       "LinearRegression()"
      ]
     },
     "execution_count": 79,
     "metadata": {},
     "output_type": "execute_result"
    }
   ],
   "source": [
    "#train the model\n",
    "lm.fit(X_train,y_train)"
   ]
  },
  {
   "cell_type": "code",
   "execution_count": 80,
   "id": "7a230e5c",
   "metadata": {},
   "outputs": [
    {
     "data": {
      "text/plain": [
       "0.5522792016134455"
      ]
     },
     "execution_count": 80,
     "metadata": {},
     "output_type": "execute_result"
    }
   ],
   "source": [
    "lm1 = lm.score(X_test,y_test)\n",
    "lm1"
   ]
  },
  {
   "cell_type": "code",
   "execution_count": 81,
   "id": "ac488bb6",
   "metadata": {},
   "outputs": [],
   "source": [
    "#Fit over our train data and predict against X test features\n",
    "y_pred= lm.predict(X_test)"
   ]
  },
  {
   "cell_type": "code",
   "execution_count": 82,
   "id": "b0d7c3f4",
   "metadata": {},
   "outputs": [
    {
     "data": {
      "image/png": "[encoded data removed]",
      "text/plain": [
       "<Figure size 432x288 with 1 Axes>"
      ]
     },
     "metadata": {
      "needs_background": "light"
     },
     "output_type": "display_data"
    }
   ],
   "source": [
    "fig, ax = plt.subplots()\n",
    "ax.scatter(y_test, y_pred, edgecolors=(0, 0, 0))\n",
    "ax.plot([y_test.min(), y_test.max()], [y_test.min(), y_test.max()], \"k--\", lw=4)\n",
    "ax.set_xlabel(\"Actual\")\n",
    "ax.set_ylabel(\"Predicted\")\n",
    "ax.set_title(\"Truth vs Predicted\")\n",
    "# this show function will display the plotting\n",
    "plt.show()"
   ]
  },
  {
   "cell_type": "code",
   "execution_count": 83,
   "id": "9935d7e2",
   "metadata": {},
   "outputs": [
    {
     "data": {
      "image/png": "[encoded data removed]",
      "text/plain": [
       "<Figure size 720x576 with 1 Axes>"
      ]
     },
     "metadata": {
      "needs_background": "light"
     },
     "output_type": "display_data"
    }
   ],
   "source": [
    "# generate value pairs for an ideal model which predicts the exact same y-value for a given test-y-value\n",
    "line_x = line_y = np.linspace(min(y_test), max(y_test), num=len(y_test))\n",
    "fig, ax = plt.subplots(figsize=(10,8))\n",
    "plt.plot(y_test, y_pred, ms=5, marker=\".\", ls='')\n",
    "# plot the ideal model together with our dots\n",
    "plt.plot(line_x, line_y, ms=0.1, marker=\".\", ls='-', c='r', label='ideal model')\n",
    "# show legend\n",
    "plt.legend();\n",
    "plt.xlabel('y_test (realized)');\n",
    "plt.ylabel('y_predicted (realized)');"
   ]
  },
  {
   "cell_type": "markdown",
   "id": "5ae0a76e",
   "metadata": {},
   "source": [
    "### R2 and MSE"
   ]
  },
  {
   "cell_type": "code",
   "execution_count": 84,
   "id": "65266e2f",
   "metadata": {},
   "outputs": [],
   "source": [
    "linreg=LinearRegression()    # model\n",
    "linreg.fit(X_train, y_train)   # model train\n",
    "y_pred=linreg.predict(X_test)"
   ]
  },
  {
   "cell_type": "code",
   "execution_count": 85,
   "id": "b647a0d3",
   "metadata": {},
   "outputs": [
    {
     "name": "stdout",
     "output_type": "stream",
     "text": [
      "train R2: 0.9324826983219836, test R2: 0.5522792016134455\n"
     ]
    }
   ],
   "source": [
    "print ('train R2: {}, test R2: {}'.format(linreg.score(X_train, y_train),\n",
    "                                            linreg.score(X_test, y_test)))"
   ]
  },
  {
   "cell_type": "code",
   "execution_count": 86,
   "id": "13fd0d8c",
   "metadata": {},
   "outputs": [
    {
     "name": "stdout",
     "output_type": "stream",
     "text": [
      "R2:  0.5522792016134455\n"
     ]
    }
   ],
   "source": [
    "print('R2: ', r2_score(y_test, y_pred))"
   ]
  },
  {
   "cell_type": "code",
   "execution_count": 87,
   "id": "446d9ad3",
   "metadata": {},
   "outputs": [
    {
     "name": "stdout",
     "output_type": "stream",
     "text": [
      "train MSE: 31452034591.137074, test MSE: 101334418424.97743\n"
     ]
    }
   ],
   "source": [
    "train_mse=mean_squared_error(linreg.predict(X_train), y_train)\n",
    "test_mse=mean_squared_error(linreg.predict(X_test), y_test)\n",
    "\n",
    "print ('train MSE: {}, test MSE: {}'.format(train_mse, test_mse))"
   ]
  },
  {
   "cell_type": "code",
   "execution_count": 88,
   "id": "0a260ad6",
   "metadata": {},
   "outputs": [
    {
     "name": "stdout",
     "output_type": "stream",
     "text": [
      "MSE: 101334418424.97743\n"
     ]
    }
   ],
   "source": [
    "print('MSE:', mean_squared_error(y_test, y_pred))"
   ]
  },
  {
   "cell_type": "code",
   "execution_count": 89,
   "id": "7bd2531d",
   "metadata": {},
   "outputs": [
    {
     "name": "stdout",
     "output_type": "stream",
     "text": [
      "Root Mean Square Error RMSE:  318330.6746529109\n"
     ]
    }
   ],
   "source": [
    "print('Root Mean Square Error RMSE: ', math.sqrt(mean_squared_error(y_test, y_pred)))"
   ]
  },
  {
   "cell_type": "code",
   "execution_count": 90,
   "id": "88f76a78",
   "metadata": {},
   "outputs": [
    {
     "name": "stdout",
     "output_type": "stream",
     "text": [
      "Mean Absolute Error MAE:  36284.83618286603\n"
     ]
    }
   ],
   "source": [
    "print('Mean Absolute Error MAE: ', mae(y_test, y_pred))"
   ]
  },
  {
   "cell_type": "markdown",
   "id": "a77453e6",
   "metadata": {},
   "source": [
    "### Linear Models"
   ]
  },
  {
   "cell_type": "code",
   "execution_count": 91,
   "id": "f167667a",
   "metadata": {},
   "outputs": [
    {
     "name": "stdout",
     "output_type": "stream",
     "text": [
      "LinearRegression: Train: 0.9325, Test: 0.5523\n",
      "Lasso: Train: 0.9324, Test: 0.5552\n",
      "Ridge: Train: 0.9325, Test: 0.5523\n",
      "ElasticNet: Train: 0.9324, Test: 0.5552\n"
     ]
    }
   ],
   "source": [
    "# print in one command Linear Regression, Lasso, Ridge and ElasticNet\n",
    "def models_automation(models, X_train, y_train):\n",
    "    for model in models:\n",
    "        model.fit(X_train, y_train)\n",
    "        print(f\"{model.__class__.__name__}: Train: {round(model.score(X_train, y_train),4)}, Test: {round(model.score(X_test, y_test),4)}\")\n",
    "\n",
    "linear_models = [LinearRegression(), Lasso(), Ridge(), ElasticNet()]\n",
    "models_automation(linear_models, X_train, y_train)"
   ]
  },
  {
   "cell_type": "code",
   "execution_count": 92,
   "id": "ac45cad2",
   "metadata": {},
   "outputs": [
    {
     "data": {
      "text/plain": [
       "0.9324826983219836"
      ]
     },
     "execution_count": 92,
     "metadata": {},
     "output_type": "execute_result"
    }
   ],
   "source": [
    "ridge1 = Ridge()\n",
    "ridge1.fit(X_train, y_train)\n",
    "ridge1 = ridge1.score(X_train, y_train)\n",
    "ridge1"
   ]
  },
  {
   "cell_type": "code",
   "execution_count": 93,
   "id": "09e0385d",
   "metadata": {},
   "outputs": [
    {
     "data": {
      "text/plain": [
       "0.8798281277874982"
      ]
     },
     "execution_count": 93,
     "metadata": {},
     "output_type": "execute_result"
    }
   ],
   "source": [
    "elasticnet1 = ElasticNet()\n",
    "elasticnet1.fit(X_train, y_train)\n",
    "elasticnet1 = elasticnet1.score(X, y)\n",
    "elasticnet1"
   ]
  },
  {
   "cell_type": "code",
   "execution_count": 94,
   "id": "33bad0f9",
   "metadata": {},
   "outputs": [
    {
     "data": {
      "text/plain": [
       "0.8798281277468853"
      ]
     },
     "execution_count": 94,
     "metadata": {},
     "output_type": "execute_result"
    }
   ],
   "source": [
    "lasso1 = Lasso()\n",
    "lasso1.fit(X_train, y_train)\n",
    "lasso1 = lasso1.score(X, y)\n",
    "lasso1"
   ]
  },
  {
   "cell_type": "markdown",
   "id": "d64bfbe5",
   "metadata": {},
   "source": [
    "### KNN"
   ]
  },
  {
   "cell_type": "code",
   "execution_count": 95,
   "id": "3966ed20",
   "metadata": {},
   "outputs": [
    {
     "name": "stdout",
     "output_type": "stream",
     "text": [
      "KNeighborsRegressor: Train: 0.6695, Test: 0.1899\n"
     ]
    }
   ],
   "source": [
    "# KNN\n",
    "knn = [KNeighborsRegressor()]\n",
    "models_automation(knn, X_train, y_train)"
   ]
  },
  {
   "cell_type": "code",
   "execution_count": 96,
   "id": "2cb03e96",
   "metadata": {},
   "outputs": [
    {
     "data": {
      "text/plain": [
       "0.6026778974458842"
      ]
     },
     "execution_count": 96,
     "metadata": {},
     "output_type": "execute_result"
    }
   ],
   "source": [
    "knn1 = KNeighborsRegressor()\n",
    "knn1.fit(X_train, y_train)\n",
    "knn1 = knn1.score(X, y)\n",
    "knn1"
   ]
  },
  {
   "cell_type": "markdown",
   "id": "23786825",
   "metadata": {},
   "source": [
    "### Decision trees - Regressor"
   ]
  },
  {
   "cell_type": "code",
   "execution_count": 97,
   "id": "8a338e86",
   "metadata": {},
   "outputs": [
    {
     "name": "stdout",
     "output_type": "stream",
     "text": [
      "DecisionTreeRegressor: Train: 1.0, Test: 0.262\n"
     ]
    }
   ],
   "source": [
    "# Decision tree regressor\n",
    "dtr = [DecisionTreeRegressor()]\n",
    "models_automation(dtr, X_train, y_train)"
   ]
  },
  {
   "cell_type": "code",
   "execution_count": 98,
   "id": "55fd20d4",
   "metadata": {},
   "outputs": [
    {
     "data": {
      "text/plain": [
       "0.9033013441444776"
      ]
     },
     "execution_count": 98,
     "metadata": {},
     "output_type": "execute_result"
    }
   ],
   "source": [
    "dtr1 = DecisionTreeRegressor()\n",
    "dtr1.fit(X_train, y_train)\n",
    "dtr1 = dtr1.score(X, y)\n",
    "dtr1"
   ]
  },
  {
   "cell_type": "markdown",
   "id": "53df7300",
   "metadata": {},
   "source": [
    "### Random Forest - Regressor"
   ]
  },
  {
   "cell_type": "code",
   "execution_count": 99,
   "id": "eb1c4e1f",
   "metadata": {},
   "outputs": [],
   "source": [
    "from sklearn.ensemble import RandomForestRegressor\n",
    "from sklearn.datasets import make_regression"
   ]
  },
  {
   "cell_type": "code",
   "execution_count": 100,
   "id": "de8fe3e2",
   "metadata": {},
   "outputs": [
    {
     "name": "stdout",
     "output_type": "stream",
     "text": [
      "RandomForestRegressor: Train: 0.9766, Test: 0.4706\n"
     ]
    }
   ],
   "source": [
    "# RandomForestRegressor\n",
    "rfr = [RandomForestRegressor()]\n",
    "models_automation(rfr, X_train, y_train)"
   ]
  },
  {
   "cell_type": "code",
   "execution_count": 101,
   "id": "e0ef4f29",
   "metadata": {},
   "outputs": [
    {
     "data": {
      "text/plain": [
       "0.911816614408054"
      ]
     },
     "execution_count": 101,
     "metadata": {},
     "output_type": "execute_result"
    }
   ],
   "source": [
    "rfr1 = RandomForestRegressor()\n",
    "rfr1.fit(X_train, y_train)\n",
    "rfr1 = rfr1.score(X, y)\n",
    "rfr1"
   ]
  },
  {
   "cell_type": "code",
   "execution_count": 102,
   "id": "89736ba5",
   "metadata": {},
   "outputs": [
    {
     "name": "stdout",
     "output_type": "stream",
     "text": [
      "[-8.32987858]\n"
     ]
    }
   ],
   "source": [
    "from sklearn.ensemble import RandomForestRegressor\n",
    "from sklearn.datasets import make_regression\n",
    "X, y = make_regression(n_features=4, n_informative=2, \n",
    "                       random_state=0, shuffle=False)\n",
    "regr = RandomForestRegressor(max_depth=2, random_state=0)\n",
    "regr.fit(X, y)\n",
    "RandomForestRegressor(...)\n",
    "print(regr.predict([[0, 0, 0, 0]]))"
   ]
  },
  {
   "cell_type": "markdown",
   "id": "abba92e0",
   "metadata": {},
   "source": [
    "### Gradient Boosting Regressor"
   ]
  },
  {
   "cell_type": "code",
   "execution_count": 103,
   "id": "668eed13",
   "metadata": {},
   "outputs": [
    {
     "name": "stdout",
     "output_type": "stream",
     "text": [
      "GradientBoostingRegressor: Train: 0.9901, Test: 0.394\n"
     ]
    }
   ],
   "source": [
    "# GradientBoostingRegressor\n",
    "gbr = [GradientBoostingRegressor()]\n",
    "models_automation(gbr, X_train, y_train)"
   ]
  },
  {
   "cell_type": "code",
   "execution_count": 104,
   "id": "cc289885",
   "metadata": {},
   "outputs": [],
   "source": [
    "from sklearn import ensemble\n",
    "gbr = ensemble.GradientBoostingRegressor(n_estimators = 400, max_depth = 5, min_samples_split = 2,\n",
    "          learning_rate = 0.1, loss = 'ls')"
   ]
  },
  {
   "cell_type": "code",
   "execution_count": 105,
   "id": "4498d52d",
   "metadata": {},
   "outputs": [
    {
     "data": {
      "text/plain": [
       "GradientBoostingRegressor(max_depth=5, n_estimators=400)"
      ]
     },
     "execution_count": 105,
     "metadata": {},
     "output_type": "execute_result"
    }
   ],
   "source": [
    "gbr.fit(X_train, y_train)"
   ]
  },
  {
   "cell_type": "code",
   "execution_count": 106,
   "id": "142480b1",
   "metadata": {},
   "outputs": [
    {
     "data": {
      "text/plain": [
       "0.35421510786957977"
      ]
     },
     "execution_count": 106,
     "metadata": {},
     "output_type": "execute_result"
    }
   ],
   "source": [
    "gbr1 = gbr.score(X_test,y_test)\n",
    "gbr1"
   ]
  },
  {
   "cell_type": "markdown",
   "id": "f1020f61",
   "metadata": {},
   "source": [
    "### Notes"
   ]
  },
  {
   "cell_type": "markdown",
   "id": "cf021ada",
   "metadata": {},
   "source": [
    "- We didn't have enough data (features) for predicting a model that will predict the price of a new artwork by features. More time and scraping is needed. \n",
    "- This models predicts in base of the estimated price that Christie's gives, which will be the final realized price. \n",
    "- Linear models work better for that"
   ]
  },
  {
   "cell_type": "code",
   "execution_count": null,
   "id": "9aa644d3",
   "metadata": {},
   "outputs": [],
   "source": []
  },
  {
   "cell_type": "code",
   "execution_count": 107,
   "id": "4c721c7a",
   "metadata": {},
   "outputs": [
    {
     "data": {
      "text/html": [
       "<div>\n",
       "<style scoped>\n",
       "    .dataframe tbody tr th:only-of-type {\n",
       "        vertical-align: middle;\n",
       "    }\n",
       "\n",
       "    .dataframe tbody tr th {\n",
       "        vertical-align: top;\n",
       "    }\n",
       "\n",
       "    .dataframe thead th {\n",
       "        text-align: right;\n",
       "    }\n",
       "</style>\n",
       "<table border=\"1\" class=\"dataframe\">\n",
       "  <thead>\n",
       "    <tr style=\"text-align: right;\">\n",
       "      <th></th>\n",
       "      <th>index_id</th>\n",
       "      <th>category</th>\n",
       "      <th>auction_id</th>\n",
       "      <th>date</th>\n",
       "      <th>location</th>\n",
       "      <th>original_currency</th>\n",
       "      <th>total_sale</th>\n",
       "      <th>nooflots</th>\n",
       "      <th>lot</th>\n",
       "      <th>title</th>\n",
       "      <th>descr</th>\n",
       "      <th>measures</th>\n",
       "      <th>min_estimated</th>\n",
       "      <th>max_estimated</th>\n",
       "      <th>realized</th>\n",
       "    </tr>\n",
       "  </thead>\n",
       "  <tbody>\n",
       "    <tr>\n",
       "      <th>0</th>\n",
       "      <td>0</td>\n",
       "      <td>Antiquities</td>\n",
       "      <td>19876</td>\n",
       "      <td>8 December 2021</td>\n",
       "      <td>London</td>\n",
       "      <td>GBP</td>\n",
       "      <td>6407750</td>\n",
       "      <td>152</td>\n",
       "      <td>1</td>\n",
       "      <td>AN ATTIC BLACK-FIGURED TREFOIL-LIPPED OINOCHOE</td>\n",
       "      <td>ATTRIBUTED TO THE GELA PAINTER, CIRCA 510-490 ...</td>\n",
       "      <td>6 3⁄4 in. (17.2 cm.) high</td>\n",
       "      <td>6000</td>\n",
       "      <td>8000</td>\n",
       "      <td>8125</td>\n",
       "    </tr>\n",
       "    <tr>\n",
       "      <th>1</th>\n",
       "      <td>1</td>\n",
       "      <td>Antiquities</td>\n",
       "      <td>19876</td>\n",
       "      <td>8 December 2021</td>\n",
       "      <td>London</td>\n",
       "      <td>GBP</td>\n",
       "      <td>6407750</td>\n",
       "      <td>152</td>\n",
       "      <td>2</td>\n",
       "      <td>A GREEK MEGARIAN WARE POTTERY BOWL</td>\n",
       "      <td>HELLENISTIC PERIOD, CIRCA 2ND CENTURY B.C.</td>\n",
       "      <td>5 5⁄8 in. (14.2 cm.) diameter</td>\n",
       "      <td>400</td>\n",
       "      <td>600</td>\n",
       "      <td>1500</td>\n",
       "    </tr>\n",
       "    <tr>\n",
       "      <th>2</th>\n",
       "      <td>2</td>\n",
       "      <td>Antiquities</td>\n",
       "      <td>19876</td>\n",
       "      <td>8 December 2021</td>\n",
       "      <td>London</td>\n",
       "      <td>GBP</td>\n",
       "      <td>6407750</td>\n",
       "      <td>152</td>\n",
       "      <td>3</td>\n",
       "      <td>AN ATTIC WHITE-GROUND LEKYTHOS</td>\n",
       "      <td>CIRCA MID 5TH CENTURY B.C.</td>\n",
       "      <td>11 1⁄2 in. (29.2 cm.) high</td>\n",
       "      <td>8000</td>\n",
       "      <td>12000</td>\n",
       "      <td>18750</td>\n",
       "    </tr>\n",
       "    <tr>\n",
       "      <th>3</th>\n",
       "      <td>3</td>\n",
       "      <td>Antiquities</td>\n",
       "      <td>19876</td>\n",
       "      <td>8 December 2021</td>\n",
       "      <td>London</td>\n",
       "      <td>GBP</td>\n",
       "      <td>6407750</td>\n",
       "      <td>152</td>\n",
       "      <td>5</td>\n",
       "      <td>SEVEN GREEK TERRACOTTAS</td>\n",
       "      <td>HELLENISTIC PERIOD, CIRCA 3RD-2ND CENTURY B.C.</td>\n",
       "      <td>4 3⁄8 in. (11 cm.) long max.</td>\n",
       "      <td>2500</td>\n",
       "      <td>3500</td>\n",
       "      <td>4375</td>\n",
       "    </tr>\n",
       "    <tr>\n",
       "      <th>4</th>\n",
       "      <td>4</td>\n",
       "      <td>Antiquities</td>\n",
       "      <td>19876</td>\n",
       "      <td>8 December 2021</td>\n",
       "      <td>London</td>\n",
       "      <td>GBP</td>\n",
       "      <td>6407750</td>\n",
       "      <td>152</td>\n",
       "      <td>6</td>\n",
       "      <td>AN ETRUSCAN BRONZE HANDLE FRAGMENT</td>\n",
       "      <td>CIRCA 5TH-4TH CENTURY B.C.</td>\n",
       "      <td>8 3⁄8 in. (21.3 cm.) high</td>\n",
       "      <td>1500</td>\n",
       "      <td>2500</td>\n",
       "      <td>2500</td>\n",
       "    </tr>\n",
       "    <tr>\n",
       "      <th>...</th>\n",
       "      <td>...</td>\n",
       "      <td>...</td>\n",
       "      <td>...</td>\n",
       "      <td>...</td>\n",
       "      <td>...</td>\n",
       "      <td>...</td>\n",
       "      <td>...</td>\n",
       "      <td>...</td>\n",
       "      <td>...</td>\n",
       "      <td>...</td>\n",
       "      <td>...</td>\n",
       "      <td>...</td>\n",
       "      <td>...</td>\n",
       "      <td>...</td>\n",
       "      <td>...</td>\n",
       "    </tr>\n",
       "    <tr>\n",
       "      <th>10352</th>\n",
       "      <td>10374</td>\n",
       "      <td>Antiquities Including the Plesch Collection of...</td>\n",
       "      <td>5951</td>\n",
       "      <td>28 April 2009</td>\n",
       "      <td>London, South Kensington</td>\n",
       "      <td>GBP</td>\n",
       "      <td>1036687</td>\n",
       "      <td>200</td>\n",
       "      <td>243</td>\n",
       "      <td>A GREEK STYLE POTTERY MULE HEAD RHYTON</td>\n",
       "      <td>AFTER THE ANTIQUE</td>\n",
       "      <td>8¼ in. (21 cm.) and 12 in. (30.5 cm.) high res...</td>\n",
       "      <td>600</td>\n",
       "      <td>900</td>\n",
       "      <td>2000</td>\n",
       "    </tr>\n",
       "    <tr>\n",
       "      <th>10353</th>\n",
       "      <td>10375</td>\n",
       "      <td>Antiquities Including the Plesch Collection of...</td>\n",
       "      <td>5951</td>\n",
       "      <td>28 April 2009</td>\n",
       "      <td>London, South Kensington</td>\n",
       "      <td>GBP</td>\n",
       "      <td>1036687</td>\n",
       "      <td>200</td>\n",
       "      <td>244</td>\n",
       "      <td>A LARGE ATTIC BLACK GLAZED POTTERY HYDRIA</td>\n",
       "      <td>4TH CENTURY B.C.</td>\n",
       "      <td>24 in. (61 cm.) and 7½ in. (19 cm.) high respe...</td>\n",
       "      <td>3000</td>\n",
       "      <td>5000</td>\n",
       "      <td>6875</td>\n",
       "    </tr>\n",
       "    <tr>\n",
       "      <th>10354</th>\n",
       "      <td>10376</td>\n",
       "      <td>Antiquities Including the Plesch Collection of...</td>\n",
       "      <td>5951</td>\n",
       "      <td>28 April 2009</td>\n",
       "      <td>London, South Kensington</td>\n",
       "      <td>GBP</td>\n",
       "      <td>1036687</td>\n",
       "      <td>200</td>\n",
       "      <td>245</td>\n",
       "      <td>AN APULIAN RED-FIGURE FISH PLATE, ATTRIBUTED T...</td>\n",
       "      <td>CIRCA 330 B.C.</td>\n",
       "      <td>9 in. (23 cm.) diam.</td>\n",
       "      <td>1500</td>\n",
       "      <td>2500</td>\n",
       "      <td>3250</td>\n",
       "    </tr>\n",
       "    <tr>\n",
       "      <th>10355</th>\n",
       "      <td>10377</td>\n",
       "      <td>Antiquities Including the Plesch Collection of...</td>\n",
       "      <td>5951</td>\n",
       "      <td>28 April 2009</td>\n",
       "      <td>London, South Kensington</td>\n",
       "      <td>GBP</td>\n",
       "      <td>1036687</td>\n",
       "      <td>200</td>\n",
       "      <td>246</td>\n",
       "      <td>AN APULIAN RED-FIGURE KANTHAROS, ATTRIBUTED TO...</td>\n",
       "      <td>CIRCA 4TH CENTURY B.C.</td>\n",
       "      <td>13 in. (33 cm.) high</td>\n",
       "      <td>2000</td>\n",
       "      <td>2500</td>\n",
       "      <td>4750</td>\n",
       "    </tr>\n",
       "    <tr>\n",
       "      <th>10356</th>\n",
       "      <td>10378</td>\n",
       "      <td>Antiquities Including the Plesch Collection of...</td>\n",
       "      <td>5951</td>\n",
       "      <td>28 April 2009</td>\n",
       "      <td>London, South Kensington</td>\n",
       "      <td>GBP</td>\n",
       "      <td>1036687</td>\n",
       "      <td>200</td>\n",
       "      <td>248</td>\n",
       "      <td>A GRAECO-ROMAN ARCHAISTIC MARBLE HERM HEAD OF ...</td>\n",
       "      <td>CIRCA 1ST CENTURY B.C., AFTER A GREEK ORIGINAL...</td>\n",
       "      <td>8 in. (20.5 cm.) high</td>\n",
       "      <td>9000</td>\n",
       "      <td>15000</td>\n",
       "      <td>15625</td>\n",
       "    </tr>\n",
       "  </tbody>\n",
       "</table>\n",
       "<p>10357 rows × 15 columns</p>\n",
       "</div>"
      ],
      "text/plain": [
       "       index_id                                           category  \\\n",
       "0             0                                        Antiquities   \n",
       "1             1                                        Antiquities   \n",
       "2             2                                        Antiquities   \n",
       "3             3                                        Antiquities   \n",
       "4             4                                        Antiquities   \n",
       "...         ...                                                ...   \n",
       "10352     10374  Antiquities Including the Plesch Collection of...   \n",
       "10353     10375  Antiquities Including the Plesch Collection of...   \n",
       "10354     10376  Antiquities Including the Plesch Collection of...   \n",
       "10355     10377  Antiquities Including the Plesch Collection of...   \n",
       "10356     10378  Antiquities Including the Plesch Collection of...   \n",
       "\n",
       "       auction_id             date                  location  \\\n",
       "0           19876  8 December 2021                    London   \n",
       "1           19876  8 December 2021                    London   \n",
       "2           19876  8 December 2021                    London   \n",
       "3           19876  8 December 2021                    London   \n",
       "4           19876  8 December 2021                    London   \n",
       "...           ...              ...                       ...   \n",
       "10352        5951    28 April 2009  London, South Kensington   \n",
       "10353        5951    28 April 2009  London, South Kensington   \n",
       "10354        5951    28 April 2009  London, South Kensington   \n",
       "10355        5951    28 April 2009  London, South Kensington   \n",
       "10356        5951    28 April 2009  London, South Kensington   \n",
       "\n",
       "      original_currency  total_sale  nooflots  lot  \\\n",
       "0                   GBP     6407750       152    1   \n",
       "1                   GBP     6407750       152    2   \n",
       "2                   GBP     6407750       152    3   \n",
       "3                   GBP     6407750       152    5   \n",
       "4                   GBP     6407750       152    6   \n",
       "...                 ...         ...       ...  ...   \n",
       "10352               GBP     1036687       200  243   \n",
       "10353               GBP     1036687       200  244   \n",
       "10354               GBP     1036687       200  245   \n",
       "10355               GBP     1036687       200  246   \n",
       "10356               GBP     1036687       200  248   \n",
       "\n",
       "                                                   title  \\\n",
       "0         AN ATTIC BLACK-FIGURED TREFOIL-LIPPED OINOCHOE   \n",
       "1                     A GREEK MEGARIAN WARE POTTERY BOWL   \n",
       "2                         AN ATTIC WHITE-GROUND LEKYTHOS   \n",
       "3                                SEVEN GREEK TERRACOTTAS   \n",
       "4                     AN ETRUSCAN BRONZE HANDLE FRAGMENT   \n",
       "...                                                  ...   \n",
       "10352             A GREEK STYLE POTTERY MULE HEAD RHYTON   \n",
       "10353          A LARGE ATTIC BLACK GLAZED POTTERY HYDRIA   \n",
       "10354  AN APULIAN RED-FIGURE FISH PLATE, ATTRIBUTED T...   \n",
       "10355  AN APULIAN RED-FIGURE KANTHAROS, ATTRIBUTED TO...   \n",
       "10356  A GRAECO-ROMAN ARCHAISTIC MARBLE HERM HEAD OF ...   \n",
       "\n",
       "                                                   descr  \\\n",
       "0      ATTRIBUTED TO THE GELA PAINTER, CIRCA 510-490 ...   \n",
       "1             HELLENISTIC PERIOD, CIRCA 2ND CENTURY B.C.   \n",
       "2                             CIRCA MID 5TH CENTURY B.C.   \n",
       "3         HELLENISTIC PERIOD, CIRCA 3RD-2ND CENTURY B.C.   \n",
       "4                             CIRCA 5TH-4TH CENTURY B.C.   \n",
       "...                                                  ...   \n",
       "10352                                  AFTER THE ANTIQUE   \n",
       "10353                                   4TH CENTURY B.C.   \n",
       "10354                                     CIRCA 330 B.C.   \n",
       "10355                             CIRCA 4TH CENTURY B.C.   \n",
       "10356  CIRCA 1ST CENTURY B.C., AFTER A GREEK ORIGINAL...   \n",
       "\n",
       "                                                measures  min_estimated  \\\n",
       "0                              6 3⁄4 in. (17.2 cm.) high           6000   \n",
       "1                          5 5⁄8 in. (14.2 cm.) diameter            400   \n",
       "2                             11 1⁄2 in. (29.2 cm.) high           8000   \n",
       "3                           4 3⁄8 in. (11 cm.) long max.           2500   \n",
       "4                              8 3⁄8 in. (21.3 cm.) high           1500   \n",
       "...                                                  ...            ...   \n",
       "10352  8¼ in. (21 cm.) and 12 in. (30.5 cm.) high res...            600   \n",
       "10353  24 in. (61 cm.) and 7½ in. (19 cm.) high respe...           3000   \n",
       "10354                              9 in. (23 cm.) diam.            1500   \n",
       "10355                              13 in. (33 cm.) high            2000   \n",
       "10356                             8 in. (20.5 cm.) high            9000   \n",
       "\n",
       "       max_estimated  realized  \n",
       "0               8000      8125  \n",
       "1                600      1500  \n",
       "2              12000     18750  \n",
       "3               3500      4375  \n",
       "4               2500      2500  \n",
       "...              ...       ...  \n",
       "10352            900      2000  \n",
       "10353           5000      6875  \n",
       "10354           2500      3250  \n",
       "10355           2500      4750  \n",
       "10356          15000     15625  \n",
       "\n",
       "[10357 rows x 15 columns]"
      ]
     },
     "execution_count": 107,
     "metadata": {},
     "output_type": "execute_result"
    }
   ],
   "source": [
    "df"
   ]
  }
 ],
 "metadata": {
  "kernelspec": {
   "display_name": "Python 3 (ipykernel)",
   "language": "python",
   "name": "python3"
  },
  "language_info": {
   "codemirror_mode": {
    "name": "ipython",
    "version": 3
   },
   "file_extension": ".py",
   "mimetype": "text/x-python",
   "name": "python",
   "nbconvert_exporter": "python",
   "pygments_lexer": "ipython3",
   "version": "3.9.7"
  }
 },
 "nbformat": 4,
 "nbformat_minor": 5
}
